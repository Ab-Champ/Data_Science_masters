{
 "cells": [
  {
   "cell_type": "markdown",
   "id": "42cda9a2-8bde-42cb-826a-342ef8a4994b",
   "metadata": {},
   "source": [
    "# MULTIPROCESSING ASSIGNMENT"
   ]
  },
  {
   "cell_type": "markdown",
   "id": "f61b0aeb-8101-4c9c-8f77-993392a76ada",
   "metadata": {},
   "source": [
    "### Q1) What is multiprocessing in python? Why is it useful?"
   ]
  },
  {
   "cell_type": "markdown",
   "id": "d6cafd90-0be2-4f94-a173-a14e2c3d5cdc",
   "metadata": {},
   "source": [
    "Multiprocessing is a technique used in Python which enables the computer to make use of multiple processors to carry out multiple tasks or processes simultaneously. It assigns a seperate memory space to each process instead of shared memory space.\n",
    "\n",
    "Multiprocessing is useful as it helps in efficient utilization of the CPU cores and processors.              \n",
    "It helps to carry out parallel computing where multiple tasks can be executed simultaneously.             \n",
    "It helps to execute each process with perfection as it uses a separte memory space and resources.             \n",
    "Any error in any process does not affect other processes and also prevents race and deadlock conditions as a separate memory space is provided for each process."
   ]
  },
  {
   "cell_type": "markdown",
   "id": "7551cbb7-10ce-47a0-a502-980ef83bc9d9",
   "metadata": {},
   "source": [
    "### Q2) What are the differences between multiprocessing and multithreading?"
   ]
  },
  {
   "cell_type": "markdown",
   "id": "ca392fea-1f55-40f5-81a9-3315e3709dfb",
   "metadata": {},
   "source": [
    "Multiprocessing is a technique where multiple processors execute multiple processes simultaneously.\n",
    "Multithreading is a technique wherein multiple processes are executed by multiple threads of a single core or processor.    \n",
    "\n",
    "Multiprocessing allocates a separte memory space for each process.             \n",
    "Multithreading allocates shared memory space common for all the processes.\n",
    "\n",
    "In multprocessing, communication among processes is not quite easy as every process is executed by seperate processor.     \n",
    "In multithreading, communication is easier as all the processes are using the same shared memory space of a single processor itself.\n",
    "\n",
    "In multiprocessing error in one process will not occur other processes as all are independent of each other.     \n",
    "In multithreading, error in one process will affect other processes as all use a shared memory space and this may lead to deadlock conditions\n",
    "\n"
   ]
  },
  {
   "cell_type": "markdown",
   "id": "4c2a8f67-1439-4751-97b8-2b141a228927",
   "metadata": {},
   "source": [
    "### Q3) Write a python code to create a process using the multiprocessing module."
   ]
  },
  {
   "cell_type": "code",
   "execution_count": 5,
   "id": "4153792b-880a-4252-a0ae-01e89b7d2086",
   "metadata": {
    "tags": []
   },
   "outputs": [
    {
     "name": "stdout",
     "output_type": "stream",
     "text": [
      "Process 1 starting.......\n",
      "Process 2 starting.......\n",
      "Process 1 finished\n",
      "Process 2 finished\n",
      "All processes have finished\n"
     ]
    }
   ],
   "source": [
    "import multiprocessing\n",
    "\n",
    "def print_msg(msg):\n",
    "    print(msg)\n",
    "process1 = multiprocessing.Process(target=print_msg, args=('Process 1'))\n",
    "process2 = multiprocessing.Process(target=print_msg, args=('Process 2'))\n",
    "\n",
    "process1.start()\n",
    "print('Process 1 starting.......')\n",
    "process2.start()\n",
    "print('Process 2 starting.......')\n",
    "\n",
    "process1.join()\n",
    "print('Process 1 finished')\n",
    "process2.join()\n",
    "print('Process 2 finished')\n",
    "\n",
    "\n",
    "print(\"All processes have finished\")"
   ]
  },
  {
   "cell_type": "markdown",
   "id": "eca20990-b9a3-49e6-92df-adefa45ca24c",
   "metadata": {},
   "source": [
    "### Q4) What is a multiprocessing pool in python? Why is it used?"
   ]
  },
  {
   "cell_type": "markdown",
   "id": "5e53e134-1b8e-40df-bc5e-a3012e3d0035",
   "metadata": {},
   "source": [
    "A multiprocessing pool means a CPU core assigns worker processes to carry out different tasks. Tasks are distributed among all these worker processes. Thus, worker processes carry out these tasks simultaneously and reduce the load on cpu and enhances performance.           \n",
    "\n",
    "It is used because-\n",
    "Enables parallel computing of tasks.\n",
    "It is used to reduce the load of the core processor when carrying out many tasks together.           \n",
    "This is useful when there are millions of tasks to be run.             \n",
    "It helps in efficient memory usage and resources of the processor as the overall work is divided among worker processes.   The overall time required to performs these tasks is reduced.          \n",
    "These processes can be reused for other tasks as well.\n"
   ]
  },
  {
   "cell_type": "markdown",
   "id": "03d97900-eb39-4a49-97ac-6272b2fdf4c9",
   "metadata": {},
   "source": [
    "### Q5) How can we create a pool of worker processes in python using the multiprocessing module?"
   ]
  },
  {
   "cell_type": "markdown",
   "id": "eaf5f423-15e9-4aba-97ae-e8b09723f725",
   "metadata": {},
   "source": [
    "The '.Pool' method of multiprocessing module is used to create a pool of worker processes in Multiprocessing. Along with this, the pool should be defined with number of worker processes it should have. \n",
    "\n",
    "eg:             \n",
    "import multiprocessing       \n",
    "pool = multiprocessing.Pool(processes=5)\n",
    "\n",
    "Here, pool variable contains the multiprocessing pool with 5 worker processes."
   ]
  },
  {
   "cell_type": "markdown",
   "id": "4486fd3e-26a4-4187-b253-1d2370bfe957",
   "metadata": {},
   "source": [
    "### Q6) Write a python program to create 4 processes, each process should print a different number using the multiprocessing module in python."
   ]
  },
  {
   "cell_type": "code",
   "execution_count": 7,
   "id": "df45f68a-d976-4baf-8e99-65b76fb2000a",
   "metadata": {
    "tags": []
   },
   "outputs": [
    {
     "name": "stdout",
     "output_type": "stream",
     "text": [
      "All processes have finished\n"
     ]
    }
   ],
   "source": [
    "import multiprocessing\n",
    "\n",
    "def print_number(n):\n",
    "    print(n)\n",
    "\n",
    "numbers = [1, 2, 3, 4]\n",
    "processes_list = []\n",
    "for i in numbers:\n",
    "    process = multiprocessing.Process(target=print_number, args=(i,))\n",
    "    processes_list.append(process)\n",
    "    process.start()\n",
    "    \n",
    "    \n",
    "for process in processes_list:\n",
    "    process.join()\n",
    "\n",
    "print(\"All processes have finished\")\n"
   ]
  },
  {
   "cell_type": "code",
   "execution_count": null,
   "id": "bad36e2d-35ec-4a39-9928-d337bed33ad7",
   "metadata": {},
   "outputs": [],
   "source": []
  }
 ],
 "metadata": {
  "kernelspec": {
   "display_name": "Python 3 (ipykernel)",
   "language": "python",
   "name": "python3"
  },
  "language_info": {
   "codemirror_mode": {
    "name": "ipython",
    "version": 3
   },
   "file_extension": ".py",
   "mimetype": "text/x-python",
   "name": "python",
   "nbconvert_exporter": "python",
   "pygments_lexer": "ipython3",
   "version": "3.11.5"
  }
 },
 "nbformat": 4,
 "nbformat_minor": 5
}
