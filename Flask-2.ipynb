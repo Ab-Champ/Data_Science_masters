{
 "cells": [
  {
   "cell_type": "markdown",
   "id": "9b7e43c1-8027-427d-b175-32e5a0914c38",
   "metadata": {},
   "source": [
    "# FLASK ASSIGNMENT 2"
   ]
  },
  {
   "cell_type": "markdown",
   "id": "e2f2e6f4-b21b-49ef-994a-b729a75253c1",
   "metadata": {},
   "source": [
    "## Q1. Explain GET and POST methods."
   ]
  },
  {
   "cell_type": "markdown",
   "id": "b2f961da-d2fe-485f-9aab-8fb21d66b7ab",
   "metadata": {},
   "source": [
    "GET: The GET method is used to request data from the server. It is used to retrieve the data. The request parameters gets appended to the URL and are exposed in the url itself. Thus, it can also be visible to users having the link and hence it becomes prone to data leakage. The GET request is cached in browser history as well. The length of the request is restricted.\n",
    "\n",
    "POST: The POST method is used to send some data to the server. The data sent using POST method is not exposed int he URl and hence it is more safer. It helps to send critical data without public exposure. The request is not saved in browser history or cached. The request does not have any length restrictions so, we can send large data as well."
   ]
  },
  {
   "cell_type": "markdown",
   "id": "1f71b1e2-a3c1-4304-8215-86a6cc87e377",
   "metadata": {},
   "source": [
    "## Q2. Why is request used in Flask?"
   ]
  },
  {
   "cell_type": "markdown",
   "id": "3da061cb-3df5-429b-b615-2d94f1e13344",
   "metadata": {},
   "source": [
    "The 'request' is used to handle all the request handling tasks in Flask. It helps to manage and access the incoming requests in Flask. The request is a object that contains the data that is sent from the client to te server. It contains data in the form of cookies, api, http requests, files, etc."
   ]
  },
  {
   "cell_type": "markdown",
   "id": "0e2f68f6-9ee6-46e2-b820-919e0993a132",
   "metadata": {},
   "source": [
    "## Q3. Why is redirect() used in Flask?"
   ]
  },
  {
   "cell_type": "markdown",
   "id": "4b80ad8d-6683-432e-a85d-99f312a92fbd",
   "metadata": {},
   "source": [
    "The redirect function is used to redirect or re-route the user to a different web page or URL. The redirect function helps to switch to another webpage when a specific action is completed and the function is called. This helps in efficient routing among different webpages. The redirect function is used with forms and buttons."
   ]
  },
  {
   "cell_type": "markdown",
   "id": "c6107913-a788-44b1-8458-790fd2a274fb",
   "metadata": {},
   "source": [
    "## Q4. What are templates in Flask? Why is the render_template() function used?"
   ]
  },
  {
   "cell_type": "markdown",
   "id": "9de42bb9-eac0-4f74-a03e-23c0a98cee85",
   "metadata": {},
   "source": [
    "Templates are generally static files that contain placeholders for dynamic data. They are used for defining a specific structure to the webapps. Dyanmic data can be added to the placeholders of these static files and create dynamic webpages. To access the contents of these templetes, they need to be rendered in flask.        \n",
    "\n",
    "render_template() function is used to locate these webpages and pass the data to their dynamic placeholders. It passes the user fed data to the webpages. It combines the structure and data to give a final HTML document."
   ]
  },
  {
   "cell_type": "markdown",
   "id": "bb4ee4a3-c158-4ec8-a63a-8509e659ce08",
   "metadata": {},
   "source": [
    "## Q5. Create a simple API. Use Postman to test it. Attach the screenshot of the output in the Jupyter Notebook."
   ]
  },
  {
   "cell_type": "code",
   "execution_count": null,
   "id": "02639ec8-f25c-4abb-9d32-efd24538164c",
   "metadata": {
    "tags": []
   },
   "outputs": [],
   "source": [
    "from flask import Flask\n",
    "\n",
    "app = Flask(__name__)\n",
    "\n",
    "@app.route('/')\n",
    "def index():\n",
    "    return \"<h1>Hello Postman!</h1>\"\n",
    "\n",
    "if __name__ == '__main__':\n",
    "    app.run(host='0.0.0.0',debug=True)"
   ]
  },
  {
   "cell_type": "markdown",
   "id": "c70d66b8-b2fe-4ad0-82dd-8d019b63c410",
   "metadata": {},
   "source": []
  }
 ],
 "metadata": {
  "kernelspec": {
   "display_name": "Python 3 (ipykernel)",
   "language": "python",
   "name": "python3"
  },
  "language_info": {
   "codemirror_mode": {
    "name": "ipython",
    "version": 3
   },
   "file_extension": ".py",
   "mimetype": "text/x-python",
   "name": "python",
   "nbconvert_exporter": "python",
   "pygments_lexer": "ipython3",
   "version": "3.11.5"
  }
 },
 "nbformat": 4,
 "nbformat_minor": 5
}
