{
 "cells": [
  {
   "cell_type": "markdown",
   "id": "102a172a-e7e9-401e-9194-73c21e34fab3",
   "metadata": {},
   "source": [
    "Q1\n",
    "\n",
    "A Class is a function in python which describes the attributes of an object. Basically, its a blueprint of an object. It may contain multiple functions to decribe multiple level of attributes.\n",
    "\n",
    "An Object is a real world entity which is an instance of a class. It contains various attributes to help identify it.\n"
   ]
  },
  {
   "cell_type": "code",
   "execution_count": 10,
   "id": "e7adfbbf-3c3e-493c-8c1a-4ce2d0ba1a74",
   "metadata": {},
   "outputs": [],
   "source": [
    "class vehicle:\n",
    "    def car(self, model, speed):\n",
    "        self.model= model\n",
    "        self.speed= speed\n",
    "        return self.model, self.speed\n",
    "  "
   ]
  },
  {
   "cell_type": "code",
   "execution_count": 11,
   "id": "76cb034a-faf5-46c6-adca-31955c67dd2c",
   "metadata": {},
   "outputs": [
    {
     "data": {
      "text/plain": [
       "('harrier', 180)"
      ]
     },
     "execution_count": 11,
     "metadata": {},
     "output_type": "execute_result"
    }
   ],
   "source": [
    "obj_car=vehicle()\n",
    "obj_car.car('harrier', 180)\n"
   ]
  },
  {
   "cell_type": "markdown",
   "id": "ae5ca229-6296-486b-ae30-66b34578e235",
   "metadata": {},
   "source": [
    "Q2\n",
    "\n",
    "Four pillars of OOPS are Inheritence, Abstraction, Encapsulation and Polymorphism"
   ]
  },
  {
   "cell_type": "markdown",
   "id": "5d02286e-fc1c-451d-acf1-f498be6d175c",
   "metadata": {},
   "source": [
    "Q3\n",
    "\n",
    "The '_ _init_ _' method is used to create a constructor for an object in a class. It contains self and other arguments. The self is used as a reference variable of class."
   ]
  },
  {
   "cell_type": "markdown",
   "id": "8db4479b-8a8d-4121-919a-ff306e72d687",
   "metadata": {},
   "source": [
    "Q4\n",
    "\n",
    "self is used as reference variable which points to the class. It tells the class that the given function is a part of the class itself"
   ]
  },
  {
   "cell_type": "markdown",
   "id": "c5b7da3c-a223-4b76-a858-4cd437b96db2",
   "metadata": {},
   "source": [
    "Q5\n",
    "\n",
    "Inheritence means when a child class inherits properties of a parent class. All the functions and methods of the parent class are available in the child class as well. There are 3 types of inheritence as : Single, Multiple and multilevel\n"
   ]
  },
  {
   "cell_type": "code",
   "execution_count": 1,
   "id": "7c089e0e-2b19-4a0c-a418-dd051e53ab14",
   "metadata": {},
   "outputs": [],
   "source": [
    "#single inheritence\n",
    "class Parent:\n",
    "    def func1(self):\n",
    "        print(\"This is parent class\")\n",
    "class Child(Parent):\n",
    "    def func2(self):\n",
    "        print(\"This is child class\")"
   ]
  },
  {
   "cell_type": "code",
   "execution_count": 4,
   "id": "86a2c10b-a4bc-43da-8bd4-386850c9debd",
   "metadata": {},
   "outputs": [
    {
     "name": "stdout",
     "output_type": "stream",
     "text": [
      "This is parent class\n",
      "This is child class\n"
     ]
    }
   ],
   "source": [
    "obj1=Child()\n",
    "obj1.func1()\n",
    "obj1.func2()"
   ]
  },
  {
   "cell_type": "code",
   "execution_count": 10,
   "id": "3a9c7a9c-3d84-427f-abcb-2b46feb78db0",
   "metadata": {},
   "outputs": [],
   "source": [
    "#multiple inheritence\n",
    "class Parent:\n",
    "    def func1(self):\n",
    "        print(\"This is parent class\")\n",
    "class Child_A(Parent):\n",
    "    def func2(self):\n",
    "        print(\"This is child class A\")\n",
    "class Child_B(Parent):\n",
    "    def func3(self):\n",
    "        print(\"This is child class B\")"
   ]
  },
  {
   "cell_type": "code",
   "execution_count": 11,
   "id": "1f8972bd-ecf1-4583-94e8-96f0875669e6",
   "metadata": {},
   "outputs": [
    {
     "name": "stdout",
     "output_type": "stream",
     "text": [
      "This is parent class\n",
      "This is child class A\n"
     ]
    }
   ],
   "source": [
    "obj1=Child_A()\n",
    "obj1.func1()\n",
    "obj1.func2()"
   ]
  },
  {
   "cell_type": "code",
   "execution_count": 12,
   "id": "71a097ee-20f2-41a4-a8aa-73d318871ecc",
   "metadata": {},
   "outputs": [
    {
     "name": "stdout",
     "output_type": "stream",
     "text": [
      "This is parent class\n",
      "This is child class B\n"
     ]
    }
   ],
   "source": [
    "obj2=Child_B()\n",
    "obj2.func1()\n",
    "obj2.func3()"
   ]
  },
  {
   "cell_type": "code",
   "execution_count": 13,
   "id": "4678ae23-a983-4a40-b1a6-9ad692d758e1",
   "metadata": {},
   "outputs": [],
   "source": [
    "#multilevel inheritence\n",
    "class Parent:\n",
    "    def func1(self):\n",
    "        print(\"This is parent class\")\n",
    "class class_A(Parent):\n",
    "    def func2(self):\n",
    "        print(\"This is child class A\")\n",
    "class class_B(class_A):\n",
    "    def func3(self):\n",
    "        print(\"This is child class B\")"
   ]
  },
  {
   "cell_type": "code",
   "execution_count": 14,
   "id": "0bff4fe4-eaab-438f-8146-3e920bc65719",
   "metadata": {},
   "outputs": [
    {
     "name": "stdout",
     "output_type": "stream",
     "text": [
      "This is parent class\n",
      "This is child class A\n"
     ]
    }
   ],
   "source": [
    "obj_A=class_A()\n",
    "obj_A.func1()\n",
    "obj_A.func2()"
   ]
  },
  {
   "cell_type": "code",
   "execution_count": 15,
   "id": "b2292507-c824-48fe-81ae-e063867adf8c",
   "metadata": {},
   "outputs": [
    {
     "name": "stdout",
     "output_type": "stream",
     "text": [
      "This is parent class\n",
      "This is child class A\n",
      "This is child class B\n"
     ]
    }
   ],
   "source": [
    "obj_B=class_B()\n",
    "obj_B.func1()\n",
    "obj_B.func2()\n",
    "obj_B.func3()"
   ]
  },
  {
   "cell_type": "code",
   "execution_count": null,
   "id": "8be75a92-a97c-45ae-8cef-ad13f9243688",
   "metadata": {},
   "outputs": [],
   "source": []
  }
 ],
 "metadata": {
  "kernelspec": {
   "display_name": "Python 3 (ipykernel)",
   "language": "python",
   "name": "python3"
  },
  "language_info": {
   "codemirror_mode": {
    "name": "ipython",
    "version": 3
   },
   "file_extension": ".py",
   "mimetype": "text/x-python",
   "name": "python",
   "nbconvert_exporter": "python",
   "pygments_lexer": "ipython3",
   "version": "3.11.0"
  }
 },
 "nbformat": 4,
 "nbformat_minor": 5
}
