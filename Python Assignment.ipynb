{
 "cells": [
  {
   "cell_type": "markdown",
   "id": "ced61ffe-9c3d-497c-8bda-5ad4278f916f",
   "metadata": {},
   "source": [
    "Q1"
   ]
  },
  {
   "cell_type": "code",
   "execution_count": 13,
   "id": "9b4bd620-ff25-45d5-8706-681280572b8e",
   "metadata": {},
   "outputs": [
    {
     "data": {
      "text/plain": [
       "[('Virat Kohli', 24936),\n",
       " ('Jack Kallis', 25534),\n",
       " ('Ricky Ponting', 27483),\n",
       " ('Sachin Tendulkar', 34357)]"
      ]
     },
     "execution_count": 13,
     "metadata": {},
     "output_type": "execute_result"
    }
   ],
   "source": [
    "list1=[('Sachin Tendulkar', 34357), ('Ricky Ponting', 27483), ('Jack Kallis', 25534), ('Virat Kohli', 24936)]\n",
    "list1.sort(key=lambda x : x[1])\n",
    "list1"
   ]
  },
  {
   "cell_type": "markdown",
   "id": "fae564e3-242d-4f7e-82ec-88bee2a9cf36",
   "metadata": {},
   "source": [
    "Q2"
   ]
  },
  {
   "cell_type": "code",
   "execution_count": 14,
   "id": "089d0990-7687-440e-b13b-8b60ca72d007",
   "metadata": {},
   "outputs": [
    {
     "data": {
      "text/plain": [
       "[1, 4, 9, 16, 25, 36, 49, 64, 81, 100]"
      ]
     },
     "execution_count": 14,
     "metadata": {},
     "output_type": "execute_result"
    }
   ],
   "source": [
    "\n",
    "l= [1, 2, 3, 4, 5, 6, 7, 8, 9, 10]\n",
    "\n",
    "A= lambda x : x**2 \n",
    "list(map(A, l))"
   ]
  },
  {
   "cell_type": "markdown",
   "id": "6502cb8b-e968-49a3-a02e-b3bca1cb5544",
   "metadata": {},
   "source": [
    "Q3"
   ]
  },
  {
   "cell_type": "code",
   "execution_count": 15,
   "id": "0d2f6b00-e178-4eab-896d-d886a15742c3",
   "metadata": {},
   "outputs": [
    {
     "data": {
      "text/plain": [
       "['1', '2', '3', '4', '5', '6', '7', '8', '9', '10']"
      ]
     },
     "execution_count": 15,
     "metadata": {},
     "output_type": "execute_result"
    }
   ],
   "source": [
    "l1=[1, 2, 3, 4, 5, 6, 7, 8, 9, 10]\n",
    "B = lambda x : str(x)\n",
    "list(map(B, l1))"
   ]
  },
  {
   "cell_type": "markdown",
   "id": "bc74f1c0-380c-48a8-8e01-d90addbf56a4",
   "metadata": {},
   "source": [
    "Q4"
   ]
  },
  {
   "cell_type": "code",
   "execution_count": 28,
   "id": "310275bd-76b2-4df4-9eb1-c3e0192aaecd",
   "metadata": {},
   "outputs": [
    {
     "data": {
      "text/plain": [
       "15511210043330985984000000"
      ]
     },
     "execution_count": 28,
     "metadata": {},
     "output_type": "execute_result"
    }
   ],
   "source": [
    "from functools import reduce\n",
    "l3=[]\n",
    "\n",
    "for i in range(1,26):\n",
    "    l3.append(i)\n",
    "l3\n",
    "\n",
    "C = reduce(lambda x,y : x*y, l3)\n",
    "C"
   ]
  },
  {
   "cell_type": "markdown",
   "id": "37b7d7e2-48ea-4713-b54b-e6045c5fc51b",
   "metadata": {},
   "source": [
    "Q5"
   ]
  },
  {
   "cell_type": "code",
   "execution_count": 32,
   "id": "5d64eaf5-4c9e-4afb-bcc3-4f7c6c657b63",
   "metadata": {},
   "outputs": [
    {
     "data": {
      "text/plain": [
       "[6, 60, 90, 120]"
      ]
     },
     "execution_count": 32,
     "metadata": {},
     "output_type": "execute_result"
    }
   ],
   "source": [
    "l4=[2, 3, 6, 9, 27, 60, 90, 120, 55, 46]\n",
    "\n",
    "list(filter(lambda x : x%2==0 and x%3==0, l4))"
   ]
  },
  {
   "cell_type": "markdown",
   "id": "fdaea391-1fb4-4f50-9c5c-7dc4857e8b26",
   "metadata": {},
   "source": [
    "Q6"
   ]
  },
  {
   "cell_type": "code",
   "execution_count": 33,
   "id": "acd4fa02-e779-4019-a7be-b593522c1377",
   "metadata": {},
   "outputs": [
    {
     "data": {
      "text/plain": [
       "['php', 'aba', 'radar', 'level']"
      ]
     },
     "execution_count": 33,
     "metadata": {},
     "output_type": "execute_result"
    }
   ],
   "source": [
    "l5 = ['python', 'php', 'aba', 'radar', 'level']\n",
    "list(filter(lambda x  : x==x[::-1], l5))"
   ]
  },
  {
   "cell_type": "code",
   "execution_count": null,
   "id": "c2964094-2ffc-4fe3-95a6-b3e5ebd8bf6a",
   "metadata": {},
   "outputs": [],
   "source": []
  }
 ],
 "metadata": {
  "kernelspec": {
   "display_name": "Python 3 (ipykernel)",
   "language": "python",
   "name": "python3"
  },
  "language_info": {
   "codemirror_mode": {
    "name": "ipython",
    "version": 3
   },
   "file_extension": ".py",
   "mimetype": "text/x-python",
   "name": "python",
   "nbconvert_exporter": "python",
   "pygments_lexer": "ipython3",
   "version": "3.11.0"
  }
 },
 "nbformat": 4,
 "nbformat_minor": 5
}
