{
 "cells": [
  {
   "cell_type": "markdown",
   "id": "da04c028-286e-4920-87ce-73aa2737d5c3",
   "metadata": {},
   "source": [
    "#Q1\n",
    "\n",
    "Multithreading is the process to execute multiple threads of a cpu simultaneously in a single process. It is used to execute multiple operations simultaneosly and thus enhance the efficiency of the cpu by multitasking.    \n",
    "The 'Threading' module is used to do multithreading in python."
   ]
  },
  {
   "cell_type": "markdown",
   "id": "3f40b6c2-7908-49ff-9b60-0f57476fdef3",
   "metadata": {},
   "source": [
    "#Q2\n",
    "\n",
    "The Threading module is used to do multithreading and access various methods to carry out multitasking.     \n",
    "1] activeCount: It is used to know the count of active threads.            \n",
    "2] currentThread: It is used to return the current thread's objects             \n",
    "3] enumerate: Used to return all current thread objects.\n"
   ]
  },
  {
   "cell_type": "markdown",
   "id": "05c0747e-063e-4965-ace9-6ff643c41f54",
   "metadata": {},
   "source": [
    "#Q3\n",
    "\n",
    "1] run(): Used to run the current thread.              \n",
    "2] start(): Used to start the execution of threads collectively.               \n",
    "3] join(): Used to provide 'wait' instruction to a thread so that other thread completes its execution.               \n",
    "4] isAlive(): Used to know the status of a thread i.e whether it's executing or not."
   ]
  },
  {
   "cell_type": "markdown",
   "id": "8aa8bf0b-2685-4529-9321-59d0c3d0df10",
   "metadata": {},
   "source": [
    "#Q4."
   ]
  },
  {
   "cell_type": "code",
   "execution_count": 12,
   "id": "58db279f-3bcf-4f3a-bc28-ef747efe7c28",
   "metadata": {},
   "outputs": [
    {
     "name": "stdout",
     "output_type": "stream",
     "text": [
      "Square of 0 is: 0\n",
      "Square of 1 is: 1\n",
      "Square of 2 is: 4\n",
      "Square of 3 is: 9\n",
      "Square of 4 is: 16\n",
      "Square of 5 is: 25\n",
      "Cube of 0 is: 0\n",
      "Cube of 1 is: 1\n",
      "Cube of 2 is: 8\n",
      "Cube of 3 is: 27\n",
      "Cube of 4 is: 64\n",
      "Cube of 5 is: 125\n"
     ]
    }
   ],
   "source": [
    "import threading\n",
    "\n",
    "l1 = [1,3,4,6,8,2]    \n",
    "    \n",
    "def squares(n):\n",
    "     print('Square of {} is:'.format(n), n**2)\n",
    "def cubes(n):\n",
    "    print('Cube of {} is:'.format(n), n**3)\n",
    "\n",
    "thread_1 = [threading.Thread(target = squares, args=(i,)) for i in range(len(l1))]\n",
    "thread_2 = [threading.Thread(target = cubes, args=(i,)) for i in range(len(l1))]\n",
    "\n",
    "for t in thread_1:\n",
    "    t.start()\n",
    "for k in thread_2:\n",
    "    k.start()\n"
   ]
  },
  {
   "cell_type": "markdown",
   "id": "c60a20ef-ed57-4deb-b302-85f82fffba47",
   "metadata": {},
   "source": [
    "#Q5\n",
    "\n",
    "#Advantages of multithreading: \n",
    "It boosts system performace.   \n",
    "Useful for multitasking.    \n",
    "Helps utilize system memory and runtime effectively.    \n",
    "Provide a efficient structure to processes involving number of tasks.\n",
    "\n",
    "#Disadvantages:\n",
    "As system is constantly processing threads, it puts on extra load on cpu.          \n",
    "Increases complexity of the program.        \n",
    "Difficult to debug and manage.\n"
   ]
  },
  {
   "cell_type": "markdown",
   "id": "877f000d-1ef3-4869-a0ac-7fd9cdebda19",
   "metadata": {},
   "source": [
    "#Q6\n",
    "\n",
    "Race Condition: It is occurred when two or more threads are active and access the same shared variable.    \n",
    "Deadlock Condition: It is occured when two or more threads are locked forever."
   ]
  }
 ],
 "metadata": {
  "kernelspec": {
   "display_name": "Python 3 (ipykernel)",
   "language": "python",
   "name": "python3"
  },
  "language_info": {
   "codemirror_mode": {
    "name": "ipython",
    "version": 3
   },
   "file_extension": ".py",
   "mimetype": "text/x-python",
   "name": "python",
   "nbconvert_exporter": "python",
   "pygments_lexer": "ipython3",
   "version": "3.11.0"
  }
 },
 "nbformat": 4,
 "nbformat_minor": 5
}
