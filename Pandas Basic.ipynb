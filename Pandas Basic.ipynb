{
 "cells": [
  {
   "cell_type": "code",
   "execution_count": 8,
   "id": "90f4ab36-dd8d-4869-8a6a-6f3475c857dd",
   "metadata": {},
   "outputs": [],
   "source": [
    "import pandas as pd"
   ]
  },
  {
   "cell_type": "code",
   "execution_count": 11,
   "id": "2043cd3b-a6da-4bfd-a8d1-1892f0c6a8bc",
   "metadata": {},
   "outputs": [
    {
     "name": "stdout",
     "output_type": "stream",
     "text": [
      "0     4\n",
      "1     8\n",
      "2    15\n",
      "3    16\n",
      "4    23\n",
      "5    42\n",
      "dtype: int64\n"
     ]
    }
   ],
   "source": [
    "##Q1\n",
    "\n",
    "l1=[4, 8, 15, 16, 23, 42]\n",
    "Series=pd.Series(l1)\n",
    "print(Series)"
   ]
  },
  {
   "cell_type": "code",
   "execution_count": 12,
   "id": "0b2fbf9d-ad76-492f-a8d5-2d7675b6388d",
   "metadata": {},
   "outputs": [
    {
     "name": "stdout",
     "output_type": "stream",
     "text": [
      "0     1\n",
      "1     2\n",
      "2     3\n",
      "3     4\n",
      "4     5\n",
      "5     6\n",
      "6     7\n",
      "7     8\n",
      "8     9\n",
      "9    10\n",
      "dtype: int64\n"
     ]
    }
   ],
   "source": [
    "##Q2\n",
    "\n",
    "l2=[1,2,3,4,5,6,7,8,9,10]\n",
    "s1=pd.Series(l2)\n",
    "print(s1)"
   ]
  },
  {
   "cell_type": "code",
   "execution_count": 17,
   "id": "c0c1e9a3-e226-4a76-ae08-63ff38325dca",
   "metadata": {},
   "outputs": [
    {
     "name": "stdout",
     "output_type": "stream",
     "text": [
      "     Name  Age  Gender\n",
      "0   Alice   25  Female\n",
      "1     Bob   30    Male\n",
      "2  Claire   27  Female\n"
     ]
    }
   ],
   "source": [
    "##Q3\n",
    "\n",
    "data={'Name':['Alice','Bob','Claire'],'Age':[25,30,27],'Gender':['Female','Male','Female']}\n",
    "df=pd.DataFrame(data)\n",
    "print(df)"
   ]
  },
  {
   "cell_type": "markdown",
   "id": "69f2716d-2d69-4840-903e-2e90404d2d66",
   "metadata": {},
   "source": [
    "**Q4**\n",
    "\n",
    "A Dataframe is a two dimensional array having rows and columns.      \n",
    "A dataframe is a two dimensional array whereas a series is a single dimensional array. A dataframe has multiple rows and columns whereas series has only a single column. A dataframe has multiple series.        \n"
   ]
  },
  {
   "cell_type": "code",
   "execution_count": 31,
   "id": "13697084-9800-42f7-b8fb-77f891a46fa9",
   "metadata": {},
   "outputs": [
    {
     "name": "stdout",
     "output_type": "stream",
     "text": [
      "(10,)\n",
      "(3, 3)\n"
     ]
    }
   ],
   "source": [
    "##eg\n",
    "print(s1.shape)\n",
    "print(df.shape)\n",
    "\n",
    "##  Here Series(s1) - is a single dimensional array and Dataframe(df) is a 2 dimensional array"
   ]
  },
  {
   "cell_type": "markdown",
   "id": "6dd5812d-2eac-4165-a42c-c4d8edb4e1b7",
   "metadata": {},
   "source": [
    "**Q5**     \n",
    "\n",
    "Some common functions of data manipulation in pandas dataframe are:     \n",
    "df.head(), df.tail(), df.describe(), df.shape, df.dtypes, df.count(), df.unique(), df.groupby(),etc     \n",
    "We can use these functions while dealing with a data for the purpose of Data Analytics.   "
   ]
  },
  {
   "cell_type": "markdown",
   "id": "a5f7f8bd-927b-46d1-bf6b-30c07932332b",
   "metadata": {},
   "source": [
    "**Q6**    \n",
    "\n",
    "The Dataframe, series and panel all are value mutable but not size mutable. Their sizes cannot be changed with the previous elements."
   ]
  },
  {
   "cell_type": "markdown",
   "id": "1d367836-807a-4341-bac2-ec116486ac0e",
   "metadata": {},
   "source": [
    "**Q7**  \n",
    "\n",
    "A dataframe is combination of multiple series. We define 3 series here and convert it to dataframe."
   ]
  },
  {
   "cell_type": "code",
   "execution_count": 38,
   "id": "35279532-969f-4700-bc65-e53569a0aeea",
   "metadata": {},
   "outputs": [
    {
     "data": {
      "text/html": [
       "<div>\n",
       "<style scoped>\n",
       "    .dataframe tbody tr th:only-of-type {\n",
       "        vertical-align: middle;\n",
       "    }\n",
       "\n",
       "    .dataframe tbody tr th {\n",
       "        vertical-align: top;\n",
       "    }\n",
       "\n",
       "    .dataframe thead th {\n",
       "        text-align: right;\n",
       "    }\n",
       "</style>\n",
       "<table border=\"1\" class=\"dataframe\">\n",
       "  <thead>\n",
       "    <tr style=\"text-align: right;\">\n",
       "      <th></th>\n",
       "      <th>0</th>\n",
       "      <th>1</th>\n",
       "      <th>2</th>\n",
       "    </tr>\n",
       "  </thead>\n",
       "  <tbody>\n",
       "    <tr>\n",
       "      <th>0</th>\n",
       "      <td>Tom</td>\n",
       "      <td>Alice</td>\n",
       "      <td>Jane</td>\n",
       "    </tr>\n",
       "    <tr>\n",
       "      <th>1</th>\n",
       "      <td>100</td>\n",
       "      <td>101</td>\n",
       "      <td>102</td>\n",
       "    </tr>\n",
       "    <tr>\n",
       "      <th>2</th>\n",
       "      <td>Male</td>\n",
       "      <td>Male</td>\n",
       "      <td>Female</td>\n",
       "    </tr>\n",
       "  </tbody>\n",
       "</table>\n",
       "</div>"
      ],
      "text/plain": [
       "      0      1       2\n",
       "0   Tom  Alice    Jane\n",
       "1   100    101     102\n",
       "2  Male   Male  Female"
      ]
     },
     "execution_count": 38,
     "metadata": {},
     "output_type": "execute_result"
    }
   ],
   "source": [
    "##eg\n",
    "a=['Tom','Alice','Jane']\n",
    "b=[100,101,102]\n",
    "c=['Male','Male','Female']\n",
    "s01=pd.Series(a)\n",
    "s02=pd.Series(b)\n",
    "s03=pd.Series(c)\n",
    "\n",
    "data=[s01,s02,s03]\n",
    "\n",
    "df=pd.DataFrame(data)\n",
    "df"
   ]
  }
 ],
 "metadata": {
  "kernelspec": {
   "display_name": "Python 3 (ipykernel)",
   "language": "python",
   "name": "python3"
  },
  "language_info": {
   "codemirror_mode": {
    "name": "ipython",
    "version": 3
   },
   "file_extension": ".py",
   "mimetype": "text/x-python",
   "name": "python",
   "nbconvert_exporter": "python",
   "pygments_lexer": "ipython3",
   "version": "3.10.8"
  }
 },
 "nbformat": 4,
 "nbformat_minor": 5
}
