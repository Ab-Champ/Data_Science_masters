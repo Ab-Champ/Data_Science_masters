{
 "cells": [
  {
   "cell_type": "code",
   "execution_count": 5,
   "id": "2751a934-181f-4dcf-aea0-37cf52191046",
   "metadata": {},
   "outputs": [
    {
     "name": "stdin",
     "output_type": "stream",
     "text": [
      " 76\n"
     ]
    },
    {
     "name": "stdout",
     "output_type": "stream",
     "text": [
      "Your grade is: \n",
      "C\n"
     ]
    }
   ],
   "source": [
    "#Q1\n",
    "\n",
    "def grade(perc):\n",
    "    print(\"Your grade is: \")\n",
    "    if perc>90:\n",
    "        print(\"A\")\n",
    "    elif perc>80 and perc<=90:\n",
    "        print(\"B\") \n",
    "    elif perc>=60 and perc<=80:\n",
    "        print(\"C\")\n",
    "    else:\n",
    "        print(\"D\")\n",
    "\n",
    "percentage=input()\n",
    "grade(int(percentage))"
   ]
  },
  {
   "cell_type": "code",
   "execution_count": 9,
   "id": "a0336d31-c882-485e-82bd-dc997684b105",
   "metadata": {},
   "outputs": [
    {
     "name": "stdin",
     "output_type": "stream",
     "text": [
      " 75000\n"
     ]
    },
    {
     "name": "stdout",
     "output_type": "stream",
     "text": [
      "Road Tax is: \n",
      "10%\n"
     ]
    }
   ],
   "source": [
    "#Q2\n",
    "\n",
    "def road_tax(cost_price):\n",
    "    print(\"Road Tax is: \")\n",
    "    if cost_price<=50000:\n",
    "        print(\"5%\")\n",
    "    elif cost_price>50000 and cost_price<=100000:\n",
    "        print(\"10%\") \n",
    "    else:\n",
    "        print(\"15%\")\n",
    "\n",
    "cost_price_rs=input()\n",
    "road_tax(int(cost_price_rs))"
   ]
  },
  {
   "cell_type": "code",
   "execution_count": 12,
   "id": "e5037c0e-323f-4068-bf99-ea88be65c11c",
   "metadata": {},
   "outputs": [
    {
     "name": "stdin",
     "output_type": "stream",
     "text": [
      " Jaipur\n"
     ]
    },
    {
     "name": "stdout",
     "output_type": "stream",
     "text": [
      "Monument: \n",
      "Jal Mahal\n"
     ]
    }
   ],
   "source": [
    "#Q3\n",
    "\n",
    "def monument(city):\n",
    "    print(\"Monument: \")\n",
    "    if city == \"Delhi\":\n",
    "        print(\"Red Fort\")\n",
    "    elif city == \"Agra\":\n",
    "        print(\"Taj Mahal\")\n",
    "    elif city == \"Jaipur\":\n",
    "        print(\"Jal Mahal\")\n",
    "    else:\n",
    "        print(\"None\")\n",
    "\n",
    "\n",
    "city = input()\n",
    "monument(city)"
   ]
  },
  {
   "cell_type": "code",
   "execution_count": 19,
   "id": "cc9d5b23-16d5-4ad7-8c71-64c151819074",
   "metadata": {},
   "outputs": [
    {
     "name": "stdin",
     "output_type": "stream",
     "text": [
      " 999\n"
     ]
    },
    {
     "name": "stdout",
     "output_type": "stream",
     "text": [
      "5\n"
     ]
    }
   ],
   "source": [
    "#Q4\n",
    "\n",
    "num=int(input())\n",
    "count=0\n",
    "while num>10:\n",
    "    num=num/3\n",
    "    count+=1\n",
    "print(count)"
   ]
  },
  {
   "cell_type": "markdown",
   "id": "863a8ea0-7402-42c3-b940-ebf1cf401344",
   "metadata": {},
   "source": [
    "#Q5\n",
    "\n",
    "The while loop is used to carry out a operation for a specific number of times depending on a given condition.       \n",
    "The while loop is used when we want to check the condition first and then execute the block of statements. The block of code will be executed only when the given condition is true and will terminate the loop once it is false."
   ]
  },
  {
   "cell_type": "code",
   "execution_count": 20,
   "id": "590a0d3f-d6ef-445f-a71e-e8b0cdcc00e7",
   "metadata": {},
   "outputs": [
    {
     "name": "stdout",
     "output_type": "stream",
     "text": [
      "9\n",
      "8\n",
      "7\n",
      "6\n",
      "5\n",
      "4\n",
      "3\n",
      "2\n",
      "1\n",
      "0\n"
     ]
    }
   ],
   "source": [
    "num=10\n",
    "while num>0:\n",
    "    num-=1\n",
    "    print(num)"
   ]
  },
  {
   "cell_type": "markdown",
   "id": "5c80d88a-6d75-4e92-8338-beab02601644",
   "metadata": {},
   "source": [
    "Q6"
   ]
  },
  {
   "cell_type": "code",
   "execution_count": 29,
   "id": "9d8a92c2-41ef-4999-8a9e-9babb09378e6",
   "metadata": {},
   "outputs": [
    {
     "name": "stdout",
     "output_type": "stream",
     "text": [
      "\n",
      "1 \n",
      "2 2 \n",
      "3 3 3 \n",
      "4 4 4 4 \n",
      "5 5 5 5 5 \n"
     ]
    }
   ],
   "source": [
    "rows=6\n",
    "for i in range(rows):\n",
    "    # nested loop\n",
    "    for j in range(i):\n",
    "        # display number\n",
    "        print(i, end=' ')\n",
    "    print('') "
   ]
  },
  {
   "cell_type": "code",
   "execution_count": 30,
   "id": "431f9728-0abf-491c-beb1-998fea06f555",
   "metadata": {},
   "outputs": [
    {
     "name": "stdout",
     "output_type": "stream",
     "text": [
      "1 \n",
      "1 2 \n",
      "1 2 3 \n",
      "1 2 3 4 \n",
      "1 2 3 4 5 \n"
     ]
    }
   ],
   "source": [
    "rows=5\n",
    "for i in range(1, rows + 1):\n",
    "    for j in range(1, i + 1):\n",
    "        print(j, end=' ')\n",
    "    print('')"
   ]
  },
  {
   "cell_type": "code",
   "execution_count": 31,
   "id": "2a849e98-acc5-42dc-8f52-bd81d83ea52f",
   "metadata": {},
   "outputs": [
    {
     "name": "stdout",
     "output_type": "stream",
     "text": [
      "5 5 5 5 5 \n",
      "5 5 5 5 \n",
      "5 5 5 \n",
      "5 5 \n",
      "5 \n"
     ]
    }
   ],
   "source": [
    "rows=5\n",
    "num = rows\n",
    "# reverse for loop\n",
    "for i in range(rows, 0, -1):\n",
    "    for j in range(0, i):\n",
    "        print(num, end=' ')\n",
    "    print(\"\\r\")"
   ]
  },
  {
   "cell_type": "code",
   "execution_count": 38,
   "id": "2e503575-8e5a-4f41-9f9a-74e4134db814",
   "metadata": {},
   "outputs": [
    {
     "name": "stdout",
     "output_type": "stream",
     "text": [
      "10\n",
      "9\n",
      "8\n",
      "7\n",
      "6\n",
      "5\n",
      "4\n",
      "3\n",
      "2\n",
      "1\n"
     ]
    }
   ],
   "source": [
    "#Q7\n",
    "\n",
    "num = 10\n",
    "while num>=1:\n",
    "    print(num)\n",
    "    num-=1"
   ]
  },
  {
   "cell_type": "code",
   "execution_count": 39,
   "id": "02fc62c5-916a-4ef6-b4ba-b6539291c161",
   "metadata": {},
   "outputs": [
    {
     "name": "stdout",
     "output_type": "stream",
     "text": [
      "10\n",
      "9\n",
      "8\n",
      "7\n",
      "6\n",
      "5\n",
      "4\n",
      "3\n",
      "2\n",
      "1\n"
     ]
    }
   ],
   "source": [
    "#Q8\n",
    "\n",
    "num = 10\n",
    "while num>=1:\n",
    "    print(num)\n",
    "    num-=1"
   ]
  },
  {
   "cell_type": "code",
   "execution_count": null,
   "id": "4a61455d-f26b-4b49-a979-ffbaaa7f2f87",
   "metadata": {},
   "outputs": [],
   "source": []
  }
 ],
 "metadata": {
  "kernelspec": {
   "display_name": "Python 3 (ipykernel)",
   "language": "python",
   "name": "python3"
  },
  "language_info": {
   "codemirror_mode": {
    "name": "ipython",
    "version": 3
   },
   "file_extension": ".py",
   "mimetype": "text/x-python",
   "name": "python",
   "nbconvert_exporter": "python",
   "pygments_lexer": "ipython3",
   "version": "3.11.0"
  }
 },
 "nbformat": 4,
 "nbformat_minor": 5
}
