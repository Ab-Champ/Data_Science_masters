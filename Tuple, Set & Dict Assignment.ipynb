{
 "cells": [
  {
   "cell_type": "markdown",
   "id": "df08292f-fa2e-493e-8dc4-60e363043889",
   "metadata": {},
   "source": [
    "Q1\n",
    "\n",
    "Tuples are a type a immutable data type. A tuple is ordered and they can also contain duplicate values. Tuples are defined by enclosing the elements in round brackets '()'.\n",
    "Yes, a tuple is immutable. We cannot change the data of a tuple. "
   ]
  },
  {
   "cell_type": "markdown",
   "id": "83393997-a5b4-482e-9211-9b4d282da6c7",
   "metadata": {},
   "source": [
    "Q2\n",
    "\n",
    "A tuple has two methods as .count() which counts the number of a specified element in the tuple while, the other one is .index() which returns the index of the specified element. \n",
    "\n",
    "Tuples have only these two methods as a tuple is immutable and no other methods can be used to alter its value."
   ]
  },
  {
   "cell_type": "code",
   "execution_count": 11,
   "id": "24e234b0-2576-45ab-ae21-6c245f53a563",
   "metadata": {},
   "outputs": [
    {
     "data": {
      "text/plain": [
       "4"
      ]
     },
     "execution_count": 11,
     "metadata": {},
     "output_type": "execute_result"
    }
   ],
   "source": [
    "#count()\n",
    "tup1=('a', 'b', 'c', 'a', 'd', 'e', 'b', 'a', 'c', 'f', 'a')\n",
    "tup1.count('a')"
   ]
  },
  {
   "cell_type": "code",
   "execution_count": 12,
   "id": "382abfc1-91f2-4c44-8bc9-1db34511bc40",
   "metadata": {},
   "outputs": [
    {
     "data": {
      "text/plain": [
       "5"
      ]
     },
     "execution_count": 12,
     "metadata": {},
     "output_type": "execute_result"
    }
   ],
   "source": [
    "#index()\n",
    "tup2=('a','c','d','f','r','u','a','i')\n",
    "tup2.index('u')"
   ]
  },
  {
   "cell_type": "markdown",
   "id": "bb2993fa-bdfb-4e5b-98ce-22aa1dc60953",
   "metadata": {},
   "source": [
    "Q3\n",
    "\n",
    "A set is a datatype which does not allow duplicates. It filters out the duplicate values and gives a clean set without duplicates.\n"
   ]
  },
  {
   "cell_type": "code",
   "execution_count": 13,
   "id": "554512b6-2cd2-4aab-9946-55a8e9c8751f",
   "metadata": {},
   "outputs": [
    {
     "data": {
      "text/plain": [
       "{1, 2, 3, 4}"
      ]
     },
     "execution_count": 13,
     "metadata": {},
     "output_type": "execute_result"
    }
   ],
   "source": [
    "List = [1, 1, 1, 2, 1, 3, 1, 4, 2, 1, 2, 2, 2, 3, 2, 4, 3, 1, 3, 2, 3, 3, 3, 4, 4, 1, 4, 2, 4, 3, 4, 4]\n",
    "set(List)"
   ]
  },
  {
   "cell_type": "markdown",
   "id": "58b6c80f-229b-4131-b484-99ba4b3dfc19",
   "metadata": {},
   "source": [
    "Q4\n",
    "\n",
    "The union method creates a new set having all the elements of the given two or more sets whereas, the update method updates the specified set with all the elements of the given sets"
   ]
  },
  {
   "cell_type": "code",
   "execution_count": 14,
   "id": "e6e34fb1-00a1-4e18-874f-3eac8a2cdb60",
   "metadata": {},
   "outputs": [
    {
     "name": "stdout",
     "output_type": "stream",
     "text": [
      "{'volleyball', 'sprint', 'kabaddi', 'cricket', 'football', 'hockey'}\n",
      "{'cricket', 'football', 'hockey'}\n"
     ]
    }
   ],
   "source": [
    "#union\n",
    "A={'cricket', 'football', 'hockey'}\n",
    "B={'kabaddi', 'sprint', 'volleyball'}\n",
    "print(A.union(B))                                  #this will give output\n",
    "print(A)                                           #set A will not change"
   ]
  },
  {
   "cell_type": "code",
   "execution_count": 15,
   "id": "b5985ed2-f669-4681-9b77-727807c6ca00",
   "metadata": {},
   "outputs": [
    {
     "name": "stdout",
     "output_type": "stream",
     "text": [
      "None\n",
      "{'volleyball', 'sprint', 'kabaddi', 'cricket', 'football', 'hockey'}\n"
     ]
    }
   ],
   "source": [
    "A={'cricket', 'football', 'hockey'}\n",
    "B={'kabaddi', 'sprint', 'volleyball'}\n",
    "print(A.update(B))                                 #this will not give any output\n",
    "print(A)                                           #set A will get updated\n"
   ]
  },
  {
   "cell_type": "markdown",
   "id": "bccd211a-f266-43dc-b233-b9446cb154a8",
   "metadata": {},
   "source": [
    "Q5\n",
    "\n",
    "A dictionary is a dataype in python which stores elements in key:value form. A dictionary is enclosed in curly braces '{}'. \n",
    "It can store multiple and duplicate values for a single key. The keys are immutable and cannot be duplicate.\n",
    "\n",
    "A dictionary is ordered datatype as there are seperate values for each key.\n",
    "\n",
    "\n"
   ]
  },
  {
   "cell_type": "code",
   "execution_count": 22,
   "id": "8ba1484f-96b4-4566-986d-9cbab04c64dd",
   "metadata": {},
   "outputs": [
    {
     "name": "stdout",
     "output_type": "stream",
     "text": [
      "<class 'dict'>\n",
      "dict_items([(1, ['red', 'blue', 'yellow']), (2, 'green')])\n"
     ]
    }
   ],
   "source": [
    "A={1 : ['red', 'blue', 'yellow'], 2 : 'green'}\n",
    "print(type(A))\n",
    "print(A.items())"
   ]
  },
  {
   "cell_type": "markdown",
   "id": "d15fdd3b-19a8-45de-8275-cc590ee1762c",
   "metadata": {},
   "source": [
    "Q6\n",
    "\n",
    "Yes, we can create a nested dictionary by defining a new dictionary inside a dictionary.\n"
   ]
  },
  {
   "cell_type": "code",
   "execution_count": 29,
   "id": "e9db147b-fe12-4a0a-a49f-eb7eed444176",
   "metadata": {},
   "outputs": [
    {
     "data": {
      "text/plain": [
       "{4: 'car', 5: 'bike'}"
      ]
     },
     "execution_count": 29,
     "metadata": {},
     "output_type": "execute_result"
    }
   ],
   "source": [
    "A={1 : 'red' , 2 : 'blue', 3 : {4 : 'car' , 5 : 'bike'}}\n",
    "A[3]"
   ]
  },
  {
   "cell_type": "markdown",
   "id": "68e1e3e2-3c74-4e0d-bbc9-a4f446e100a2",
   "metadata": {},
   "source": [
    "Q7"
   ]
  },
  {
   "cell_type": "code",
   "execution_count": 32,
   "id": "44c65822-291f-4ccb-ab51-5e06b3fc1a4c",
   "metadata": {},
   "outputs": [
    {
     "data": {
      "text/plain": [
       "{'language': 'Python',\n",
       " 'course': 'Data Science Masters',\n",
       " 'topics': ['Python', 'Machine Learning', 'Deep Learning']}"
      ]
     },
     "execution_count": 32,
     "metadata": {},
     "output_type": "execute_result"
    }
   ],
   "source": [
    "dict1 = {'language' : 'Python', 'course': 'Data Science Masters'}\n",
    "dict1.setdefault('topics')\n",
    "dict1['topics']= ['Python', 'Machine Learning', 'Deep Learning']\n",
    "dict1"
   ]
  },
  {
   "cell_type": "markdown",
   "id": "8b5d76f4-1d44-4a47-bfbc-f7806d924fb6",
   "metadata": {},
   "source": [
    "Q8\n",
    "\n",
    "Keys, Values and Items are the three view objects in a dictionary. The .keys() are used to return all the keys of a dictionary. .values() are used to return the values of a dictionary.\n",
    "The .items() is used to return the key-value pairs in a dictionary."
   ]
  },
  {
   "cell_type": "code",
   "execution_count": 34,
   "id": "9e6b690c-bd8e-40b5-9b3a-f999b481e7f5",
   "metadata": {},
   "outputs": [
    {
     "name": "stdout",
     "output_type": "stream",
     "text": [
      "dict_keys(['Sport', 'Teams'])\n",
      "dict_values(['Cricket', ['India', 'Australia', 'England', 'South Africa', 'Sri Lanka', 'New Zealand']])\n",
      "dict_items([('Sport', 'Cricket'), ('Teams', ['India', 'Australia', 'England', 'South Africa', 'Sri Lanka', 'New Zealand'])])\n"
     ]
    }
   ],
   "source": [
    "dict1 = {'Sport': 'Cricket' , 'Teams': ['India', 'Australia', 'England', 'South Africa', 'Sri Lanka', 'New Zealand']}\n",
    "print(dict1.keys())\n",
    "print(dict1.values())\n",
    "print(dict1.items())"
   ]
  },
  {
   "cell_type": "code",
   "execution_count": null,
   "id": "83faca52-9bea-4998-8f72-2c86fb4c20dc",
   "metadata": {},
   "outputs": [],
   "source": []
  }
 ],
 "metadata": {
  "kernelspec": {
   "display_name": "Python 3 (ipykernel)",
   "language": "python",
   "name": "python3"
  },
  "language_info": {
   "codemirror_mode": {
    "name": "ipython",
    "version": 3
   },
   "file_extension": ".py",
   "mimetype": "text/x-python",
   "name": "python",
   "nbconvert_exporter": "python",
   "pygments_lexer": "ipython3",
   "version": "3.11.0"
  }
 },
 "nbformat": 4,
 "nbformat_minor": 5
}
