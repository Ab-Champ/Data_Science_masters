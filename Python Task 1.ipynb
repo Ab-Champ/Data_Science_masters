{
 "cells": [
  {
   "cell_type": "markdown",
   "id": "f919dd1a-0348-44fb-947b-4fb37318b4b3",
   "metadata": {},
   "source": [
    "#Q1"
   ]
  },
  {
   "cell_type": "code",
   "execution_count": 99,
   "id": "27117de3-5dfc-4773-96bb-ac682662e0b5",
   "metadata": {},
   "outputs": [
    {
     "data": {
      "text/plain": [
       "4134711838987085478833841242112000"
      ]
     },
     "execution_count": 99,
     "metadata": {},
     "output_type": "execute_result"
    }
   ],
   "source": [
    "\n",
    "from functools import reduce\n",
    "list1 = [1,2,3,4, [44,55,66, True], False, (34,56,78,89,34), {1,2,3,3,2,1}, {1:34, \"key2\": [55, 67, 78, 89], 4: (45,\n",
    "22, 61, 34)}, [56, 'data science'], 'Machine Learning']\n",
    "\n",
    "def flat(lis):\n",
    "    flatList = []\n",
    "    # Iterate with outer list\n",
    "    for element in lis:\n",
    "        if type(element) is list or type(element) is tuple or type(element) is set:\n",
    "            for item in element:\n",
    "                if type(item) is int:\n",
    "                    flatList.append(item)\n",
    "        elif type(element) is dict:\n",
    "            keys= element.keys()\n",
    "            values= element.values()\n",
    "            for i in keys:\n",
    "                if type(i) is int:\n",
    "                    flatList.append(i)\n",
    "            for j in values:\n",
    "                if type(j) is list or type(j) is tuple:\n",
    "                    for k in j:\n",
    "                        flatList.append(k)\n",
    "                else:\n",
    "                    flatList.append(j)\n",
    "        elif type(element) is int:\n",
    "            flatList.append(element)\n",
    "        else:\n",
    "            pass\n",
    "    return reduce(lambda x,y : x*y , flatList)\n",
    "flat(list1)"
   ]
  },
  {
   "cell_type": "markdown",
   "id": "67366264-fb28-4e79-9f23-7e68dcb8c862",
   "metadata": {},
   "source": [
    "#Q2"
   ]
  },
  {
   "cell_type": "code",
   "execution_count": 100,
   "id": "d5602e76-ce26-4efb-88a6-63a33e0f0b54",
   "metadata": {},
   "outputs": [
    {
     "name": "stdout",
     "output_type": "stream",
     "text": [
      "Original message: \n",
      "I want to become a Data Scientist.\n",
      "\n",
      "Encrypted message: \n"
     ]
    },
    {
     "data": {
      "text/plain": [
       "'r$dzmg$gl$yvxlnv$z$wzgz$hxrvmgrhg.'"
      ]
     },
     "execution_count": 100,
     "metadata": {},
     "output_type": "execute_result"
    }
   ],
   "source": [
    "\n",
    "import string\n",
    "\n",
    "def encryption(sentence):\n",
    "    print(\"Original message: \")\n",
    "    print(sentence)\n",
    "    lowered_sent = sentence.lower()\n",
    "    \n",
    "    \n",
    "    #logic\n",
    "    dict1={}\n",
    "    alphabet_list=list(string.ascii_lowercase)  \n",
    "    reverse_alphabet_list=sorted(alphabet_list,reverse=True) \n",
    "    dict1=dict(zip(alphabet_list, reverse_alphabet_list))\n",
    "    \n",
    "    #main\n",
    "    encrpyted_list=[]\n",
    "    for i in lowered_sent:\n",
    "        if i==' ':\n",
    "            encrpyted_list.append('$')\n",
    "        elif i in dict1.keys():\n",
    "            encrpyted_list.append(dict1[i])\n",
    "        else:\n",
    "            encrpyted_list.append(i)\n",
    "    print(\"\\nEncrypted message: \")\n",
    "    return ''.join(encrpyted_list)        \n",
    "            \n",
    "    \n",
    "encryption('I want to become a Data Scientist.')       \n",
    "        "
   ]
  }
 ],
 "metadata": {
  "kernelspec": {
   "display_name": "Python 3 (ipykernel)",
   "language": "python",
   "name": "python3"
  },
  "language_info": {
   "codemirror_mode": {
    "name": "ipython",
    "version": 3
   },
   "file_extension": ".py",
   "mimetype": "text/x-python",
   "name": "python",
   "nbconvert_exporter": "python",
   "pygments_lexer": "ipython3",
   "version": "3.11.0"
  }
 },
 "nbformat": 4,
 "nbformat_minor": 5
}
