{
 "cells": [
  {
   "cell_type": "markdown",
   "id": "46ebc452-ffd4-4e22-9391-30c6d93599ee",
   "metadata": {},
   "source": [
    "#Q1"
   ]
  },
  {
   "cell_type": "markdown",
   "id": "16c87ae4-1233-4135-960b-944f3ddb068d",
   "metadata": {},
   "source": [
    "An exception is a an error detected during execution typically when the input provided to the program is beyond the specified constraints.\n",
    "Difference between an exception and a syntax error is that, an exception is an execution error while a syntax error refers to a compile error. Also, an exception error means the program syntax is correct but, the input provided does not satisfy the given condition while a syntax error means there is a problem in the syntax of the code itself."
   ]
  },
  {
   "cell_type": "markdown",
   "id": "5e1444fb-b7c6-41a1-a0ce-9c5218d95fb7",
   "metadata": {},
   "source": [
    "#Q2"
   ]
  },
  {
   "cell_type": "markdown",
   "id": "bef17120-3970-44e6-9879-e639eebd7b8e",
   "metadata": {},
   "source": [
    "When an exception is not handled, we get an execution error and our program fails to execute successfully, not giving us desired outcome."
   ]
  },
  {
   "cell_type": "markdown",
   "id": "3d1700c8-86b4-41d7-b03b-15f26e93838a",
   "metadata": {},
   "source": [
    "#Q3"
   ]
  },
  {
   "cell_type": "markdown",
   "id": "7b587a35-7e11-4dac-92e9-45ad5485eef6",
   "metadata": {},
   "source": [
    "The try and except method is used to handle exceptions in python. The try contains a block of code. If the block of code produces any exception, the except block is executed. It may also contain else and finally blocks."
   ]
  },
  {
   "cell_type": "code",
   "execution_count": 7,
   "id": "19116657-4500-42e8-a6a6-6e28ccac80b1",
   "metadata": {},
   "outputs": [
    {
     "name": "stdout",
     "output_type": "stream",
     "text": [
      "Change mode of operation //  not readable\n"
     ]
    }
   ],
   "source": [
    "with open(\"test_1.txt\", 'w') as f:\n",
    "    try:\n",
    "        f.read()\n",
    "    except Exception as e:\n",
    "        print(\"Change mode of operation // \", e)"
   ]
  },
  {
   "cell_type": "markdown",
   "id": "33a1032b-33b7-4ea7-9fd8-d53d2bd21fe8",
   "metadata": {},
   "source": [
    "#Q4\n",
    "\n",
    "a) try and else:     \n",
    "    The try contains a block of code which, if creates an exception, moves to except block.     \n",
    "    The else contains a block of contain which executes if there is no exception or error found in the try block.     "
   ]
  },
  {
   "cell_type": "code",
   "execution_count": 15,
   "id": "ca7816e2-3495-4bd6-b55b-f2c48101a4bf",
   "metadata": {},
   "outputs": [],
   "source": [
    "def cube(num):\n",
    "    try:\n",
    "        cube=num**3\n",
    "    except:\n",
    "        print(\"Only integer value is accepted!\")\n",
    "    else:\n",
    "        print(\"Cube is:\", cube)"
   ]
  },
  {
   "cell_type": "code",
   "execution_count": 16,
   "id": "ebdd0a0a-0d5e-4272-a447-e393196dcdab",
   "metadata": {},
   "outputs": [
    {
     "name": "stdout",
     "output_type": "stream",
     "text": [
      "Only integer value is accepted!\n"
     ]
    }
   ],
   "source": [
    "cube('abc')"
   ]
  },
  {
   "cell_type": "code",
   "execution_count": 17,
   "id": "27920a3f-e572-4e96-87aa-c8b28bee4106",
   "metadata": {},
   "outputs": [
    {
     "name": "stdout",
     "output_type": "stream",
     "text": [
      "Cube is: 125\n"
     ]
    }
   ],
   "source": [
    "cube(5)"
   ]
  },
  {
   "cell_type": "markdown",
   "id": "9d5ac853-8e4b-4f9f-80bb-e2947d65462a",
   "metadata": {},
   "source": [
    "b) finally:    \n",
    "The 'finally' contains a block of code which will execute everytime irrespective of whether any exception is generated or not. It is used when we need to run a specific code at any cost."
   ]
  },
  {
   "cell_type": "code",
   "execution_count": 21,
   "id": "d2b10860-f354-4a60-99de-59cbf7d42fb6",
   "metadata": {},
   "outputs": [],
   "source": [
    "def cube(num):\n",
    "    try:\n",
    "        cube=num**3\n",
    "    except:\n",
    "        print(\"Only integer value is accepted!\")\n",
    "    else:\n",
    "        print(\"Cube is:\", cube)\n",
    "    finally:\n",
    "        print(\"----Programmed by Abhishek----\")"
   ]
  },
  {
   "cell_type": "code",
   "execution_count": 22,
   "id": "ae718aa8-1ed3-4495-8838-22a62a8d27a5",
   "metadata": {},
   "outputs": [
    {
     "name": "stdout",
     "output_type": "stream",
     "text": [
      "Only integer value is accepted!\n",
      "----Programmed by Abhishek----\n"
     ]
    }
   ],
   "source": [
    "cube('abc')              #this will produce an exception but finallly block will be executed."
   ]
  },
  {
   "cell_type": "markdown",
   "id": "e8d38b51-a8ec-44e7-9b56-2bd00e9fc366",
   "metadata": {},
   "source": [
    "c) raise:     \n",
    "This is used to point towards a custom exception created by the user whenever an exception is generated."
   ]
  },
  {
   "cell_type": "markdown",
   "id": "63fc92ca-7662-46f0-8207-bdb9b5352643",
   "metadata": {},
   "source": [
    "#Q5\n",
    "\n",
    "Customs exceptions are user defined exceptions python which are raised according to a user defined condition in try block.\n",
    "\n",
    "They are needed to handle any user defined exceptions and make the program more user efficient."
   ]
  },
  {
   "cell_type": "code",
   "execution_count": 30,
   "id": "714ea1c7-e5aa-40b5-83d1-cf67674510b7",
   "metadata": {},
   "outputs": [
    {
     "name": "stdin",
     "output_type": "stream",
     "text": [
      "Enter age:  -23\n"
     ]
    },
    {
     "name": "stdout",
     "output_type": "stream",
     "text": [
      "Age cannot be negative\n"
     ]
    }
   ],
   "source": [
    "class Valid_Age(Exception):\n",
    "    def __init__(self, msg):\n",
    "        self.msg=msg\n",
    "def Age_func(age):\n",
    "    if age<0:\n",
    "        raise Valid_Age(\"Age cannot be negative\")\n",
    "    elif age>150:\n",
    "        raise Valid_Age(\"Age cannot be more than 150\")\n",
    "    else:\n",
    "        print(\"You are {} years old\".format(age))\n",
    "\n",
    "try:\n",
    "    age=int(input(\"Enter age: \"))\n",
    "    Age_func(age)\n",
    "except Valid_Age as e:\n",
    "    print(e)"
   ]
  },
  {
   "cell_type": "markdown",
   "id": "9c2a3041-4fa8-4b05-82e6-42ce6f4b4c99",
   "metadata": {},
   "source": [
    "#Q6"
   ]
  },
  {
   "cell_type": "code",
   "execution_count": 29,
   "id": "a7178d8d-3c0b-4551-a3a7-a13d486b0a02",
   "metadata": {},
   "outputs": [
    {
     "name": "stdin",
     "output_type": "stream",
     "text": [
      "Enter amount to be deposited: -10\n"
     ]
    },
    {
     "name": "stdout",
     "output_type": "stream",
     "text": [
      "Amount cannot be negative\n"
     ]
    }
   ],
   "source": [
    "class Exception_class(Exception):\n",
    "    def __init__(self, msg):\n",
    "        self.msg=msg\n",
    "\n",
    "def Deposit(amount):        \n",
    "    if amount<0:\n",
    "        raise Exception_class(\"Amount cannot be negative\")\n",
    "    elif amount==0:\n",
    "        raise Exception_class(\"Amount cannot be 0\")\n",
    "    else:\n",
    "        print(\"{}rs Deposited!\".format(amount))\n",
    "\n",
    "try:\n",
    "    amt=int(input(\"Enter amount to be deposited:\"))\n",
    "    Deposit(amt)\n",
    "except Exception_class as e:\n",
    "            print(e)"
   ]
  }
 ],
 "metadata": {
  "kernelspec": {
   "display_name": "Python 3 (ipykernel)",
   "language": "python",
   "name": "python3"
  },
  "language_info": {
   "codemirror_mode": {
    "name": "ipython",
    "version": 3
   },
   "file_extension": ".py",
   "mimetype": "text/x-python",
   "name": "python",
   "nbconvert_exporter": "python",
   "pygments_lexer": "ipython3",
   "version": "3.11.0"
  }
 },
 "nbformat": 4,
 "nbformat_minor": 5
}
