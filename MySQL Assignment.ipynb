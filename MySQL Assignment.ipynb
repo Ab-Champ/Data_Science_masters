{
 "cells": [
  {
   "cell_type": "markdown",
   "id": "d52471ec-7e15-402d-8c44-fd8869bf23b0",
   "metadata": {},
   "source": [
    "#Q1\n",
    "\n",
    "Database is a collection of elements or records in the form of rows and columns.      \n",
    "SQL is Structured Query Language and it contains relational databases. NoSQL is Not Only SQL and it contains non relational databases. "
   ]
  },
  {
   "cell_type": "markdown",
   "id": "41a3ea2c-e8aa-446e-a49b-731a3a5eca5f",
   "metadata": {},
   "source": [
    "#Q2\n",
    "\n",
    "DDL refers to Data Definition Languauge. It contains SQL commands to perform operations on a database.        \n",
    "Create: Creates a new database or a table.       \n",
    "Drop: Used to drop an entire column from a database.      \n",
    "Alter: Used to alter the contents of a database column.       \n",
    "Truncate: Used to delete a database table."
   ]
  },
  {
   "cell_type": "markdown",
   "id": "4a5e8482-76dc-4efe-a854-3ed348cd23ed",
   "metadata": {},
   "source": [
    "#Q3\n",
    "\n",
    "DML refers to Data Manipulation Languauge and it consists of SQL commands to change contents of a database.      \n",
    "Insert: Inserts a new value at specified location.       \n",
    "Update: Updates the existing value of a database with a new value.          \n",
    "Delete: Deletes the value from the database."
   ]
  },
  {
   "cell_type": "markdown",
   "id": "6d88ba9a-c70f-4e50-898e-b40accc47b74",
   "metadata": {},
   "source": [
    "#Q4\n",
    "\n",
    "DQL refers to Data Query Language used to perform query operations on a database.          \n",
    "Select | * : It is used to display the selected columns from the database or the entire database."
   ]
  },
  {
   "cell_type": "markdown",
   "id": "0ab5d261-8e08-4004-a753-dedda7338fa0",
   "metadata": {},
   "source": [
    "#Q5\n",
    "\n",
    "Primary Key: It is an unique element in a database table which is used to identify the table.           \n",
    "Foreign key: It is an element in the database table which refers to the primary key of another table.      "
   ]
  },
  {
   "cell_type": "markdown",
   "id": "145a5e59-7e78-4ba4-a6ac-b29c9048ca55",
   "metadata": {},
   "source": [
    "#Q6"
   ]
  },
  {
   "cell_type": "code",
   "execution_count": null,
   "id": "c54cfa95-a314-4bcf-8310-618c6a95d04e",
   "metadata": {},
   "outputs": [],
   "source": [
    "import mysql.connector\n",
    "\n",
    "db_1 = mysql.connector.connect(\n",
    "    host = \"localhost\",\n",
    "    user = \"abc\",\n",
    "    password= \"password\"\n",
    ")\n",
    "\n",
    "cursor=db1.cursor()\n",
    "cursor.execute(\"select * from db.table\")\n"
   ]
  },
  {
   "cell_type": "markdown",
   "id": "1ea3e53d-63eb-4723-aa7f-89535bb030c4",
   "metadata": {},
   "source": [
    "cursor(): it creates a pointer to the database to perform operations.        \n",
    "execute(): It executes the specified operations or queries with the help of a cursor."
   ]
  },
  {
   "cell_type": "markdown",
   "id": "5f76b94c-a8e3-4b9b-89b6-9e6853629b7e",
   "metadata": {},
   "source": [
    "#Q7\n",
    "\n",
    "Order of execution of clauses:       \n",
    "from        \n",
    "where          \n",
    "group by           \n",
    "having            \n",
    "select          \n",
    "order by             \n",
    "limit"
   ]
  }
 ],
 "metadata": {
  "kernelspec": {
   "display_name": "Python 3 (ipykernel)",
   "language": "python",
   "name": "python3"
  },
  "language_info": {
   "codemirror_mode": {
    "name": "ipython",
    "version": 3
   },
   "file_extension": ".py",
   "mimetype": "text/x-python",
   "name": "python",
   "nbconvert_exporter": "python",
   "pygments_lexer": "ipython3",
   "version": "3.11.0"
  }
 },
 "nbformat": 4,
 "nbformat_minor": 5
}
