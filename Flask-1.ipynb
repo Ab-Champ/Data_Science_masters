{
 "cells": [
  {
   "cell_type": "markdown",
   "id": "dcfdae9f-408d-4942-8e32-8f0ee564e478",
   "metadata": {},
   "source": [
    "#Q1\n",
    "\n",
    "Flask is a web framework. It is used to develop web applications using python and its various libraries. It is a framework used to write api codes in python.       \n",
    "Advantages:       \n",
    "It's simple , it is scalable, it provides abstraction levels for different interfaces, it provides routes for locating functions, it helps to boost performance of API."
   ]
  },
  {
   "cell_type": "code",
   "execution_count": null,
   "id": "a6930cae-71c6-440e-bf04-9bc66e6d0999",
   "metadata": {},
   "outputs": [],
   "source": [
    "from flask import Flask\n",
    "\n",
    "app = Flask(__name__)\n",
    "\n",
    "@app.route(\"/\")\n",
    "def hello_world():\n",
    "    return \"<h1>Hello, World!</h1>\"\n",
    "\n",
    "if __name__==\"__main__\":\n",
    "    app.run(host=\"0.0.0.0\")"
   ]
  },
  {
   "cell_type": "code",
   "execution_count": 8,
   "id": "9714821b-74c6-42bb-8b21-5377a67844b4",
   "metadata": {},
   "outputs": [
    {
     "data": {
      "text/html": [
       "<img src=\"C:\\Users\\abhis\\OneDrive\\Pictures\\Screenshots\\hello_world.png\" width=\"300\" height=\"300\"/>"
      ],
      "text/plain": [
       "<IPython.core.display.Image object>"
      ]
     },
     "execution_count": 8,
     "metadata": {},
     "output_type": "execute_result"
    }
   ],
   "source": [
    "from IPython.display import Image\n",
    "  \n",
    "Image(url=r\"C:\\Users\\abhis\\OneDrive\\Pictures\\Screenshots\\hello_world.png\", width=300, height=300)"
   ]
  },
  {
   "cell_type": "markdown",
   "id": "20a9039b-d552-4bae-89af-1c52ee337178",
   "metadata": {},
   "source": [
    "#Q3\n",
    "\n",
    "App routing means providing a route for an app to locate a particular function. It means mapping a url to a function using a decorator in python.       \n",
    "We use app routes to redirect our web page to specified function which will give a desired result.\n"
   ]
  },
  {
   "cell_type": "code",
   "execution_count": null,
   "id": "8dc98333-334a-4ba1-a764-cd7f0e712562",
   "metadata": {},
   "outputs": [],
   "source": [
    "#Q4\n",
    "\n",
    "from flask import Flask\n",
    "\n",
    "app = Flask(__name__)\n",
    "\n",
    "@app.route(\"/welcome\")\n",
    "def Welcome():\n",
    "    return \"<h1>Welcome to ABC Corporation</h1>\"\n",
    "\n",
    "@app.route('/')\n",
    "def details():\n",
    "    return \"<h1> Company Name: ABC Corporation <br> Location: India <br> Contact Detail: 999-999-9999 </h1>\"\n",
    "\n",
    "if __name__==\"__main__\":\n",
    "    app.run(host=\"0.0.0.0\")"
   ]
  },
  {
   "cell_type": "code",
   "execution_count": 17,
   "id": "575c1fc4-d546-4615-9805-f9e76e011ce9",
   "metadata": {},
   "outputs": [],
   "source": [
    "i1=Image(url=r\"C:\\Users\\abhis\\OneDrive\\Pictures\\Screenshots\\Screenshot 2023-07-03 164152.png\", width=300, height=300)\n",
    "i2=Image(url=r\"C:\\Users\\abhis\\OneDrive\\Pictures\\Screenshots\\Screenshot 2023-07-03 164213.png\" , width=300, height=300)"
   ]
  },
  {
   "cell_type": "code",
   "execution_count": 18,
   "id": "86d972bd-fea0-4212-9952-ee94caa2f584",
   "metadata": {},
   "outputs": [
    {
     "data": {
      "text/html": [
       "<img src=\"C:\\Users\\abhis\\OneDrive\\Pictures\\Screenshots\\Screenshot 2023-07-03 164152.png\" width=\"300\" height=\"300\"/>"
      ],
      "text/plain": [
       "<IPython.core.display.Image object>"
      ]
     },
     "execution_count": 18,
     "metadata": {},
     "output_type": "execute_result"
    }
   ],
   "source": [
    "i1"
   ]
  },
  {
   "cell_type": "code",
   "execution_count": 19,
   "id": "4664cab6-e79d-4947-aa2a-d815ad085b89",
   "metadata": {},
   "outputs": [
    {
     "data": {
      "text/html": [
       "<img src=\"C:\\Users\\abhis\\OneDrive\\Pictures\\Screenshots\\Screenshot 2023-07-03 164213.png\" width=\"300\" height=\"300\"/>"
      ],
      "text/plain": [
       "<IPython.core.display.Image object>"
      ]
     },
     "execution_count": 19,
     "metadata": {},
     "output_type": "execute_result"
    }
   ],
   "source": [
    "i2"
   ]
  },
  {
   "cell_type": "code",
   "execution_count": null,
   "id": "64ca6baf-9b40-4c45-9952-a3a7177cc525",
   "metadata": {},
   "outputs": [],
   "source": [
    "#Q5"
   ]
  }
 ],
 "metadata": {
  "kernelspec": {
   "display_name": "Python 3 (ipykernel)",
   "language": "python",
   "name": "python3"
  },
  "language_info": {
   "codemirror_mode": {
    "name": "ipython",
    "version": 3
   },
   "file_extension": ".py",
   "mimetype": "text/x-python",
   "name": "python",
   "nbconvert_exporter": "python",
   "pygments_lexer": "ipython3",
   "version": "3.11.0"
  }
 },
 "nbformat": 4,
 "nbformat_minor": 5
}
