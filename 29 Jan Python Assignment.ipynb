{
 "cells": [
  {
   "cell_type": "markdown",
   "id": "586f09ef-5e1c-40a2-bccf-7ce45d1ce9cf",
   "metadata": {},
   "source": [
    "Q1\n",
    "\n",
    "Python language was developed by Guido van Rossum."
   ]
  },
  {
   "cell_type": "markdown",
   "id": "48adea70-d027-431d-8ca2-603f56f1587d",
   "metadata": {},
   "source": [
    "Q2\n",
    "\n",
    "Python supports object oriented and functional programming language"
   ]
  },
  {
   "cell_type": "markdown",
   "id": "0f31564c-ae3a-4ac7-97cd-e870a4f34052",
   "metadata": {},
   "source": [
    "Q3\n",
    "\n",
    "Yes, Python is case sensitive while dealing with identifiers."
   ]
  },
  {
   "cell_type": "markdown",
   "id": "c989cdc9-9e83-4028-a3cb-1b82a60ff512",
   "metadata": {},
   "source": [
    "Q4\n",
    "\n",
    "The '.py' is the correct extension for a python file."
   ]
  },
  {
   "cell_type": "markdown",
   "id": "d3372fb4-f01b-4d08-b2fd-e10af2fa797e",
   "metadata": {},
   "source": [
    "Q5\n",
    "\n",
    "It is compiled and interpreted both."
   ]
  },
  {
   "cell_type": "markdown",
   "id": "41b2ae3b-c956-4d67-bd6e-0af7f2f64845",
   "metadata": {},
   "source": [
    "Q6\n",
    "\n",
    "Python uses variables, functions, return types, loops, classes, libraries, etc in its block of code.\n",
    "It uses brackets, keys and indentation for block definition."
   ]
  },
  {
   "cell_type": "markdown",
   "id": "1941f3d7-72dc-4da9-81ca-d88a379e4db6",
   "metadata": {},
   "source": [
    "Q7\n",
    "\n",
    "'#' (hashtag) is used to give a single line comment in python"
   ]
  },
  {
   "cell_type": "markdown",
   "id": "2b84f9e2-b45f-4075-91a9-58cacdccf4e7",
   "metadata": {},
   "source": [
    "Q8\n",
    "\n",
    "'sys.version' is used to get python version."
   ]
  },
  {
   "cell_type": "markdown",
   "id": "0b1ce4ea-746b-4003-a62a-9759ceaed073",
   "metadata": {},
   "source": [
    "Q9\n",
    "\n",
    "\"LAMBDA\" "
   ]
  },
  {
   "cell_type": "markdown",
   "id": "7047ce39-fd62-4468-b6e4-63c928b92fd6",
   "metadata": {},
   "source": [
    "Q10\n",
    "\n",
    "pip stands for 'Preferred Installer Program'"
   ]
  },
  {
   "cell_type": "markdown",
   "id": "a77e0580-9ec5-4e3f-a51d-260ce15e2a91",
   "metadata": {},
   "source": [
    "Q11\n",
    "\n",
    "Built in functions in python are;     \n",
    "print(), dir(), range()"
   ]
  },
  {
   "cell_type": "markdown",
   "id": "367d4a19-dab0-4c54-b054-3ca343d19487",
   "metadata": {},
   "source": [
    "Q12\n",
    "\n",
    "-----"
   ]
  },
  {
   "cell_type": "markdown",
   "id": "063fd744-64f2-4b8a-8c67-11de524277f2",
   "metadata": {},
   "source": [
    "Q13\n",
    "\n",
    "Python is fast.             \n",
    "It is object oriented language.              \n",
    "It has many inbuilt functions and libraries.              \n",
    "More efficient and easy to understand.                \n",
    "Can be used for a variety of tasks.   "
   ]
  },
  {
   "cell_type": "markdown",
   "id": "c7a2fb20-cec3-4fce-a889-0b77420a7c51",
   "metadata": {},
   "source": [
    "Q14\n",
    "\n",
    "In python, memory is managed dynamically using memory heap"
   ]
  },
  {
   "cell_type": "markdown",
   "id": "2afdf4d9-7ee2-4a63-b238-0ec8175e3f7b",
   "metadata": {},
   "source": [
    "Q15\n",
    "\n",
    "Python can be installed using its website from any browser.\n",
    "To set its path variables, we should copy its path and paste in environmental variables--path"
   ]
  },
  {
   "cell_type": "markdown",
   "id": "9eaa346c-918c-47b9-848c-93321b0cc7af",
   "metadata": {},
   "source": [
    "Q16\n",
    "\n",
    "Yes indentation is required in Python. Indentation helps identify the block of code for a particular function or class."
   ]
  }
 ],
 "metadata": {
  "kernelspec": {
   "display_name": "Python 3 (ipykernel)",
   "language": "python",
   "name": "python3"
  },
  "language_info": {
   "codemirror_mode": {
    "name": "ipython",
    "version": 3
   },
   "file_extension": ".py",
   "mimetype": "text/x-python",
   "name": "python",
   "nbconvert_exporter": "python",
   "pygments_lexer": "ipython3",
   "version": "3.11.0"
  }
 },
 "nbformat": 4,
 "nbformat_minor": 5
}
