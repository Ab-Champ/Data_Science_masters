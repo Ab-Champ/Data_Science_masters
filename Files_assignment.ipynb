{
 "cells": [
  {
   "cell_type": "markdown",
   "id": "c3a2e0ff-7caf-4207-9405-29748892daf5",
   "metadata": {},
   "source": [
    "#Q1        \n",
    "\n",
    "The 'open' function is used to open a file in python. There are various modes to open a file like;     \n",
    "Write (w): Used to open a file in write mode.              \n",
    "Read (r): Used to open a file in read mode. In this mode we cannot perform write operation.    \n",
    "Append(a): Used to open a file in append mode.                 \n",
    "Binary (b): Used to open a file in binary mode in the form of machine language.               \n",
    "Text(t): Used to open a file in text mode which is set by default."
   ]
  },
  {
   "cell_type": "markdown",
   "id": "e429f22f-e096-441f-b5b7-b2b23e884997",
   "metadata": {},
   "source": [
    "#Q2      \n",
    "\n",
    "The 'close()' function is used to close a file which is currently opened.         \n",
    "It is important to use the close function so as to free up the resources and memory occupied when a file is opened. If multiple files are opened without closing the previous ones, it can put a load on the cpu and affect its performance."
   ]
  },
  {
   "cell_type": "markdown",
   "id": "ea83985f-db7a-4749-8955-664575fc03ca",
   "metadata": {},
   "source": [
    "#Q3"
   ]
  },
  {
   "cell_type": "code",
   "execution_count": 11,
   "id": "e8688f7e-6ca4-4d62-9657-bec6878e2371",
   "metadata": {},
   "outputs": [],
   "source": [
    "with open('file_1.txt', 'w') as f:\n",
    "    f.write('I want to become a Data Scientist')"
   ]
  },
  {
   "cell_type": "code",
   "execution_count": 13,
   "id": "13c06a0d-405f-42b3-865f-8ce673d0e963",
   "metadata": {},
   "outputs": [
    {
     "name": "stdout",
     "output_type": "stream",
     "text": [
      "I want to become a Data Scientist\n"
     ]
    }
   ],
   "source": [
    "with open('file_1.txt', 'r') as f:\n",
    "    print(f.read())"
   ]
  },
  {
   "cell_type": "markdown",
   "id": "e726016a-456c-44d7-9a87-fe101e705007",
   "metadata": {},
   "source": [
    "#Q4\n",
    "\n",
    "read(): Used to read all contents of a file.                \n",
    "readline(): Used to read a specific line from a file.              \n",
    "readlines(): Used to read all the lines from a file."
   ]
  },
  {
   "cell_type": "markdown",
   "id": "15117c7f-0174-43a2-bb01-4e107918f263",
   "metadata": {},
   "source": [
    "#Q5\n",
    "\n",
    "The 'with' statement is used along with open so as to make the code clean and to avoid using the close() function everytime a file is opened.       \n",
    "It is useful to avoid closing each and every file after opening because the with statement automatically closes a file after its operation."
   ]
  },
  {
   "cell_type": "markdown",
   "id": "2424962e-c5ed-45aa-993b-793dc23e2f88",
   "metadata": {},
   "source": [
    "#Q6\n",
    "\n",
    "The write() function is used to write a single statement in an opened file while the writelines() function is used to write multiple statements in the file."
   ]
  },
  {
   "cell_type": "code",
   "execution_count": 14,
   "id": "61f1f2f0-9b39-4993-af55-0800baabb0b0",
   "metadata": {},
   "outputs": [
    {
     "name": "stdout",
     "output_type": "stream",
     "text": [
      "abc\n"
     ]
    }
   ],
   "source": [
    "with open('text1.txt', 'w') as f:\n",
    "    f.write('abc')\n",
    "with open('text1.txt', 'r') as f:\n",
    "    print(f.read())"
   ]
  },
  {
   "cell_type": "code",
   "execution_count": 17,
   "id": "7e231f9e-a114-4624-95c4-4a45c61d2951",
   "metadata": {},
   "outputs": [
    {
     "name": "stdout",
     "output_type": "stream",
     "text": [
      "abcdefghijkl\n"
     ]
    }
   ],
   "source": [
    "with open('text2.txt', 'w') as f:\n",
    "    f.writelines(['abc', 'def', 'ghi','jkl'])\n",
    "with open('text2.txt', 'r') as f:\n",
    "    print(f.read())"
   ]
  }
 ],
 "metadata": {
  "kernelspec": {
   "display_name": "Python 3 (ipykernel)",
   "language": "python",
   "name": "python3"
  },
  "language_info": {
   "codemirror_mode": {
    "name": "ipython",
    "version": 3
   },
   "file_extension": ".py",
   "mimetype": "text/x-python",
   "name": "python",
   "nbconvert_exporter": "python",
   "pygments_lexer": "ipython3",
   "version": "3.11.0"
  }
 },
 "nbformat": 4,
 "nbformat_minor": 5
}
