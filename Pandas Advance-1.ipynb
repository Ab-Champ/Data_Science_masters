{
 "cells": [
  {
   "cell_type": "code",
   "execution_count": 96,
   "id": "7b49871d-cae6-4c87-9efa-fa8b16825b25",
   "metadata": {},
   "outputs": [],
   "source": [
    "import pandas as pd"
   ]
  },
  {
   "cell_type": "code",
   "execution_count": 97,
   "id": "822be87d-c2d2-4d7c-8922-8c1c27f6d3ee",
   "metadata": {},
   "outputs": [
    {
     "name": "stdout",
     "output_type": "stream",
     "text": [
      "     Name  Age  Gender\n",
      "0   Alice   25  Female\n",
      "1     Bob   30    Male\n",
      "2  Claire   27  Female\n",
      "             Age\n",
      "count   3.000000\n",
      "mean   27.333333\n",
      "std     2.516611\n",
      "min    25.000000\n",
      "25%    26.000000\n",
      "50%    27.000000\n",
      "75%    28.500000\n",
      "max    30.000000\n",
      "    Name  Age  Gender\n",
      "0  Alice   25  Female\n",
      "1    Bob   30    Male\n",
      "Name      object\n",
      "Age        int64\n",
      "Gender    object\n",
      "dtype: object\n"
     ]
    }
   ],
   "source": [
    "##Q1\n",
    "## pd.DataFrame(), df.describe(), df.head(), df.dtypes, df.to_csv()\n",
    "\n",
    "data={'Name':['Alice','Bob','Claire'],'Age':[25,30,27],'Gender':['Female','Male','Female']}\n",
    "\n",
    "#pd.DataFrame: converts given data to dataframe\n",
    "df=pd.DataFrame(data)\n",
    "print(df)\n",
    "\n",
    "#df.describe(): gives the basic information about integer datatype from Dataframe like count,mean,min,max,etc\n",
    "print(df.describe())\n",
    "\n",
    "##df.head(): Gives top n data from dataframe\n",
    "print(df.head(2))\n",
    "\n",
    "#df.dtypes: gives the datatype of each column in dataframe\n",
    "print(df.dtypes)\n",
    "\n",
    "#df.to_csv(): converts the dataframe to csv formats and saves locally.\n",
    "df.to_csv('MyData.csv')"
   ]
  },
  {
   "cell_type": "code",
   "execution_count": 98,
   "id": "38912aa3-de8a-4f50-88f1-5715654dcc4e",
   "metadata": {},
   "outputs": [
    {
     "name": "stdout",
     "output_type": "stream",
     "text": [
      "     Name  Age  Gender\n",
      "A   Alice   25  Female\n",
      "B     Bob   30    Male\n",
      "C  Claire   27  Female\n"
     ]
    },
    {
     "data": {
      "text/html": [
       "<div>\n",
       "<style scoped>\n",
       "    .dataframe tbody tr th:only-of-type {\n",
       "        vertical-align: middle;\n",
       "    }\n",
       "\n",
       "    .dataframe tbody tr th {\n",
       "        vertical-align: top;\n",
       "    }\n",
       "\n",
       "    .dataframe thead th {\n",
       "        text-align: right;\n",
       "    }\n",
       "</style>\n",
       "<table border=\"1\" class=\"dataframe\">\n",
       "  <thead>\n",
       "    <tr style=\"text-align: right;\">\n",
       "      <th></th>\n",
       "      <th>Name</th>\n",
       "      <th>Age</th>\n",
       "      <th>Gender</th>\n",
       "    </tr>\n",
       "  </thead>\n",
       "  <tbody>\n",
       "    <tr>\n",
       "      <th>1</th>\n",
       "      <td>NaN</td>\n",
       "      <td>NaN</td>\n",
       "      <td>NaN</td>\n",
       "    </tr>\n",
       "    <tr>\n",
       "      <th>3</th>\n",
       "      <td>NaN</td>\n",
       "      <td>NaN</td>\n",
       "      <td>NaN</td>\n",
       "    </tr>\n",
       "    <tr>\n",
       "      <th>5</th>\n",
       "      <td>NaN</td>\n",
       "      <td>NaN</td>\n",
       "      <td>NaN</td>\n",
       "    </tr>\n",
       "  </tbody>\n",
       "</table>\n",
       "</div>"
      ],
      "text/plain": [
       "  Name  Age Gender\n",
       "1  NaN  NaN    NaN\n",
       "3  NaN  NaN    NaN\n",
       "5  NaN  NaN    NaN"
      ]
     },
     "execution_count": 98,
     "metadata": {},
     "output_type": "execute_result"
    }
   ],
   "source": [
    "##Q2\n",
    "\n",
    "df2=pd.DataFrame(data, index=['A','B','C'])\n",
    "print(df2)\n",
    "##reindex\n",
    "n=0\n",
    "df2.reindex([1,3,5])"
   ]
  },
  {
   "cell_type": "code",
   "execution_count": 99,
   "id": "2eddde89-f427-434f-a98c-d6026af5547a",
   "metadata": {},
   "outputs": [
    {
     "name": "stdout",
     "output_type": "stream",
     "text": [
      "Values    60\n",
      "dtype: int64\n"
     ]
    }
   ],
   "source": [
    "##Q3\n",
    "\n",
    "data3={'Values':[10, 20, 30, 40, 50]}\n",
    "\n",
    "df3=pd.DataFrame(data3)\n",
    "print(df3[:3].sum())"
   ]
  },
  {
   "cell_type": "code",
   "execution_count": 100,
   "id": "cb59bd8e-6ce8-4e38-9d12-444b690aacb5",
   "metadata": {},
   "outputs": [
    {
     "data": {
      "text/plain": [
       "0     9\n",
       "1    10\n",
       "2     9\n",
       "3    11\n",
       "Name: Word_Count, dtype: int64"
      ]
     },
     "execution_count": 100,
     "metadata": {},
     "output_type": "execute_result"
    }
   ],
   "source": [
    "##Q4\n",
    "\n",
    "df=pd.DataFrame({'Text': ['Shorter code is typically easier for others to read',\n",
    "'Shorter code is typically easier to maintain than longer code',\n",
    "'Extra lines of code introduce additional points of failure',\n",
    "'An input value greater than 100 causes the triggering of logging']})\n",
    "\n",
    "df['Word_Count']=df[\"Text\"].apply(lambda n: len(n.split()))\n",
    "df['Word_Count']"
   ]
  },
  {
   "cell_type": "markdown",
   "id": "8d0869f3-e675-4f1a-a82f-265b1fb79d50",
   "metadata": {},
   "source": [
    "**Q5**\n",
    "\n",
    "The df.size() is a function used on dataframe to return the size of dataframe or elements present in the dataframe     \n",
    "while      \n",
    "The df.shape() is used to return the dimensions of a particular dataframe in the form of rowsxcolumns."
   ]
  },
  {
   "cell_type": "markdown",
   "id": "71a0af13-5ea6-4ad5-823c-06f8bbecd328",
   "metadata": {},
   "source": [
    "**Q6**\n",
    "\n",
    "We use the pd.read_excel() method to read an excel file. "
   ]
  },
  {
   "cell_type": "code",
   "execution_count": 101,
   "id": "35fb285c-ad34-4650-9ca8-3e6658a92c41",
   "metadata": {},
   "outputs": [
    {
     "data": {
      "text/html": [
       "<div>\n",
       "<style scoped>\n",
       "    .dataframe tbody tr th:only-of-type {\n",
       "        vertical-align: middle;\n",
       "    }\n",
       "\n",
       "    .dataframe tbody tr th {\n",
       "        vertical-align: top;\n",
       "    }\n",
       "\n",
       "    .dataframe thead th {\n",
       "        text-align: right;\n",
       "    }\n",
       "</style>\n",
       "<table border=\"1\" class=\"dataframe\">\n",
       "  <thead>\n",
       "    <tr style=\"text-align: right;\">\n",
       "      <th></th>\n",
       "      <th>Email</th>\n",
       "      <th>Username</th>\n",
       "    </tr>\n",
       "  </thead>\n",
       "  <tbody>\n",
       "    <tr>\n",
       "      <th>0</th>\n",
       "      <td>mlewan@yahoo.com</td>\n",
       "      <td>mlewan</td>\n",
       "    </tr>\n",
       "    <tr>\n",
       "      <th>1</th>\n",
       "      <td>empathy@verizon.net</td>\n",
       "      <td>empathy</td>\n",
       "    </tr>\n",
       "    <tr>\n",
       "      <th>2</th>\n",
       "      <td>hling@mac.com</td>\n",
       "      <td>hling</td>\n",
       "    </tr>\n",
       "    <tr>\n",
       "      <th>3</th>\n",
       "      <td>rwelty@verizon.net</td>\n",
       "      <td>rwelty</td>\n",
       "    </tr>\n",
       "    <tr>\n",
       "      <th>4</th>\n",
       "      <td>william@sbcglobal.net</td>\n",
       "      <td>william</td>\n",
       "    </tr>\n",
       "    <tr>\n",
       "      <th>5</th>\n",
       "      <td>parents@gmail.com</td>\n",
       "      <td>parents</td>\n",
       "    </tr>\n",
       "  </tbody>\n",
       "</table>\n",
       "</div>"
      ],
      "text/plain": [
       "                   Email Username\n",
       "0       mlewan@yahoo.com   mlewan\n",
       "1    empathy@verizon.net  empathy\n",
       "2          hling@mac.com    hling\n",
       "3     rwelty@verizon.net   rwelty\n",
       "4  william@sbcglobal.net  william\n",
       "5      parents@gmail.com  parents"
      ]
     },
     "execution_count": 101,
     "metadata": {},
     "output_type": "execute_result"
    }
   ],
   "source": [
    "##Q7\n",
    "\n",
    "df=pd.DataFrame({'Email':['mlewan@yahoo.com',\n",
    "'empathy@verizon.net',\n",
    "'hling@mac.com',\n",
    "'rwelty@verizon.net',\n",
    "'william@sbcglobal.net',\n",
    "'parents@gmail.com']})\n",
    "df['Username']=df[\"Email\"].apply(lambda n: n.split('@')[0])\n",
    "df"
   ]
  },
  {
   "cell_type": "code",
   "execution_count": 102,
   "id": "3514c670-9f03-4aa1-97ce-37e2f882e25a",
   "metadata": {},
   "outputs": [
    {
     "name": "stdout",
     "output_type": "stream",
     "text": [
      "   A  B  C\n",
      "0  8  2  7\n",
      "1  6  9  4\n",
      "2  9  1  2\n"
     ]
    }
   ],
   "source": [
    "##Q8\n",
    "\n",
    "data={'A':[3,8,6,2,9],'B':[5,2,9,3,1],'C':[1,7,4,5,2]}\n",
    "df1=pd.DataFrame(data)\n",
    "df1.values\n",
    "df2=pd.DataFrame(df1[(df1['A']>5)&(df1['B']<10)].values, columns=['A','B','C'])\n",
    "print(df2)"
   ]
  },
  {
   "cell_type": "code",
   "execution_count": 103,
   "id": "b24cf656-2c3e-4c5b-b9f0-2949ff1d5792",
   "metadata": {},
   "outputs": [
    {
     "name": "stdout",
     "output_type": "stream",
     "text": [
      "Mean: 30.0 \n",
      " Median: 30.0 \n",
      " Std: 15.811388300841896\n"
     ]
    }
   ],
   "source": [
    "##Q9\n",
    "\n",
    "data3={'Values':[10, 20, 30, 40, 50]}\n",
    "df3=pd.DataFrame(data3)\n",
    "\n",
    "print('Mean:',df3.mean()[0], '\\n','Median:',df3.median()[0],'\\n','Std:',df3.std()[0])"
   ]
  },
  {
   "cell_type": "code",
   "execution_count": 135,
   "id": "4a489feb-8436-4970-a3d3-b9d8c4ff0ae9",
   "metadata": {},
   "outputs": [
    {
     "data": {
      "text/plain": [
       "0            NaN\n",
       "1            NaN\n",
       "2            NaN\n",
       "3            NaN\n",
       "4            NaN\n",
       "5            NaN\n",
       "6     137.714286\n",
       "7     142.142857\n",
       "8     134.000000\n",
       "9     133.857143\n",
       "10    134.142857\n",
       "11    133.857143\n",
       "12    133.714286\n",
       "13    142.428571\n",
       "14    140.571429\n",
       "15    139.285714\n",
       "16    141.000000\n",
       "17    146.000000\n",
       "18    140.142857\n",
       "19    148.285714\n",
       "20    146.428571\n",
       "21    155.000000\n",
       "22    160.142857\n",
       "23    158.857143\n",
       "24    157.714286\n",
       "25    164.714286\n",
       "26    161.000000\n",
       "27    161.714286\n",
       "Name: Sales, dtype: float64"
      ]
     },
     "execution_count": 135,
     "metadata": {},
     "output_type": "execute_result"
    }
   ],
   "source": [
    "##Q10\n",
    "\n",
    "import random\n",
    "dates=pd.date_range(start=pd.to_datetime(\"1/1/2023\"), end=date.today(), periods=28).to_pydatetime().tolist()\n",
    "data2={\"Sales\": random.sample(range(100,200),28), \"Dates\": dates }\n",
    "Sales_df=pd.DataFrame(data2)\n",
    "Sales_df.head()\n",
    "Sales_df['Sales'].rolling(window=7).mean()"
   ]
  },
  {
   "cell_type": "code",
   "execution_count": 173,
   "id": "35797d05-3528-4e69-a802-a41f7c1ce02f",
   "metadata": {},
   "outputs": [
    {
     "data": {
      "text/html": [
       "<div>\n",
       "<style scoped>\n",
       "    .dataframe tbody tr th:only-of-type {\n",
       "        vertical-align: middle;\n",
       "    }\n",
       "\n",
       "    .dataframe tbody tr th {\n",
       "        vertical-align: top;\n",
       "    }\n",
       "\n",
       "    .dataframe thead th {\n",
       "        text-align: right;\n",
       "    }\n",
       "</style>\n",
       "<table border=\"1\" class=\"dataframe\">\n",
       "  <thead>\n",
       "    <tr style=\"text-align: right;\">\n",
       "      <th></th>\n",
       "      <th>Dates</th>\n",
       "      <th>Weekday</th>\n",
       "    </tr>\n",
       "  </thead>\n",
       "  <tbody>\n",
       "    <tr>\n",
       "      <th>0</th>\n",
       "      <td>2023-08-27</td>\n",
       "      <td>Sunday</td>\n",
       "    </tr>\n",
       "    <tr>\n",
       "      <th>1</th>\n",
       "      <td>2023-08-28</td>\n",
       "      <td>Monday</td>\n",
       "    </tr>\n",
       "    <tr>\n",
       "      <th>2</th>\n",
       "      <td>2023-08-29</td>\n",
       "      <td>Tuesday</td>\n",
       "    </tr>\n",
       "    <tr>\n",
       "      <th>3</th>\n",
       "      <td>2023-08-30</td>\n",
       "      <td>Wednesday</td>\n",
       "    </tr>\n",
       "    <tr>\n",
       "      <th>4</th>\n",
       "      <td>2023-08-31</td>\n",
       "      <td>Thursday</td>\n",
       "    </tr>\n",
       "    <tr>\n",
       "      <th>5</th>\n",
       "      <td>2023-09-01</td>\n",
       "      <td>Friday</td>\n",
       "    </tr>\n",
       "    <tr>\n",
       "      <th>6</th>\n",
       "      <td>2023-09-02</td>\n",
       "      <td>Saturday</td>\n",
       "    </tr>\n",
       "    <tr>\n",
       "      <th>7</th>\n",
       "      <td>2023-09-03</td>\n",
       "      <td>Sunday</td>\n",
       "    </tr>\n",
       "    <tr>\n",
       "      <th>8</th>\n",
       "      <td>2023-09-04</td>\n",
       "      <td>Monday</td>\n",
       "    </tr>\n",
       "    <tr>\n",
       "      <th>9</th>\n",
       "      <td>2023-09-05</td>\n",
       "      <td>Tuesday</td>\n",
       "    </tr>\n",
       "  </tbody>\n",
       "</table>\n",
       "</div>"
      ],
      "text/plain": [
       "       Dates    Weekday\n",
       "0 2023-08-27     Sunday\n",
       "1 2023-08-28     Monday\n",
       "2 2023-08-29    Tuesday\n",
       "3 2023-08-30  Wednesday\n",
       "4 2023-08-31   Thursday\n",
       "5 2023-09-01     Friday\n",
       "6 2023-09-02   Saturday\n",
       "7 2023-09-03     Sunday\n",
       "8 2023-09-04     Monday\n",
       "9 2023-09-05    Tuesday"
      ]
     },
     "execution_count": 173,
     "metadata": {},
     "output_type": "execute_result"
    }
   ],
   "source": [
    "##Q11\n",
    "\n",
    "from datetime import date\n",
    "import calendar\n",
    "dates=pd.date_range(date.today(), periods=10).to_pydatetime().tolist()\n",
    "data1={'Dates': dates}\n",
    "my_data= pd.DataFrame(data1)\n",
    "my_data['Weekday']= my_data['Dates'].apply(lambda x: calendar.day_name[x.weekday()])\n",
    "my_data"
   ]
  },
  {
   "cell_type": "code",
   "execution_count": 174,
   "id": "bdbf11a3-2a04-4467-b6ef-83f1e00d977e",
   "metadata": {},
   "outputs": [
    {
     "data": {
      "text/html": [
       "<div>\n",
       "<style scoped>\n",
       "    .dataframe tbody tr th:only-of-type {\n",
       "        vertical-align: middle;\n",
       "    }\n",
       "\n",
       "    .dataframe tbody tr th {\n",
       "        vertical-align: top;\n",
       "    }\n",
       "\n",
       "    .dataframe thead th {\n",
       "        text-align: right;\n",
       "    }\n",
       "</style>\n",
       "<table border=\"1\" class=\"dataframe\">\n",
       "  <thead>\n",
       "    <tr style=\"text-align: right;\">\n",
       "      <th></th>\n",
       "      <th>Dates</th>\n",
       "    </tr>\n",
       "  </thead>\n",
       "  <tbody>\n",
       "    <tr>\n",
       "      <th>0</th>\n",
       "      <td>2023-01-01</td>\n",
       "    </tr>\n",
       "    <tr>\n",
       "      <th>1</th>\n",
       "      <td>2023-01-08</td>\n",
       "    </tr>\n",
       "    <tr>\n",
       "      <th>2</th>\n",
       "      <td>2023-01-15</td>\n",
       "    </tr>\n",
       "    <tr>\n",
       "      <th>3</th>\n",
       "      <td>2023-01-22</td>\n",
       "    </tr>\n",
       "    <tr>\n",
       "      <th>4</th>\n",
       "      <td>2023-01-29</td>\n",
       "    </tr>\n",
       "  </tbody>\n",
       "</table>\n",
       "</div>"
      ],
      "text/plain": [
       "       Dates\n",
       "0 2023-01-01\n",
       "1 2023-01-08\n",
       "2 2023-01-15\n",
       "3 2023-01-22\n",
       "4 2023-01-29"
      ]
     },
     "execution_count": 174,
     "metadata": {},
     "output_type": "execute_result"
    }
   ],
   "source": [
    "##Q12\n",
    "\n",
    "dates_new=pd.date_range(start=pd.to_datetime(\"1/1/2023\"), end=date.today(), periods=35).to_pydatetime().tolist()\n",
    "dF=pd.DataFrame(dates_new, columns=['Dates'])\n",
    "start_date = '2023-01-01'\n",
    "end_date = '2023-01-31'\n",
    "date_range = pd.date_range(start=start_date, end=end_date)\n",
    "dF.loc[dF['Dates'].isin(date_range)]"
   ]
  },
  {
   "cell_type": "markdown",
   "id": "2c7d1b0a-731c-4372-92ba-82a7193b424f",
   "metadata": {},
   "source": [
    "**#Q13**\n",
    "\n",
    "To use the pandas functions, we must first include the pandas library -- import pandas as pd"
   ]
  }
 ],
 "metadata": {
  "kernelspec": {
   "display_name": "Python 3 (ipykernel)",
   "language": "python",
   "name": "python3"
  },
  "language_info": {
   "codemirror_mode": {
    "name": "ipython",
    "version": 3
   },
   "file_extension": ".py",
   "mimetype": "text/x-python",
   "name": "python",
   "nbconvert_exporter": "python",
   "pygments_lexer": "ipython3",
   "version": "3.10.8"
  }
 },
 "nbformat": 4,
 "nbformat_minor": 5
}
