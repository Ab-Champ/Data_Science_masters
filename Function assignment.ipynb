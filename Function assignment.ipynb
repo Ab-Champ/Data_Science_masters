{
 "cells": [
  {
   "cell_type": "markdown",
   "id": "58fe19a9-7040-40a3-afb5-0c236aba458b",
   "metadata": {},
   "source": [
    " Q1\n",
    " def keyword is used to create a function"
   ]
  },
  {
   "cell_type": "code",
   "execution_count": 1,
   "id": "98dd8b32-c404-4975-9ebb-db10a9709626",
   "metadata": {},
   "outputs": [],
   "source": [
    "def odd_nos(n):\n",
    "    l=[]\n",
    "    for i in range(1,n):\n",
    "        if i%2!=0:\n",
    "            l.append(i)\n",
    "    return l           "
   ]
  },
  {
   "cell_type": "code",
   "execution_count": 2,
   "id": "4eb0c9c0-51d7-40b5-b1fd-df3a5eff37aa",
   "metadata": {},
   "outputs": [
    {
     "data": {
      "text/plain": [
       "[1, 3, 5, 7, 9, 11, 13, 15, 17, 19, 21, 23]"
      ]
     },
     "execution_count": 2,
     "metadata": {},
     "output_type": "execute_result"
    }
   ],
   "source": [
    "odd_nos(25)"
   ]
  },
  {
   "cell_type": "markdown",
   "id": "6e681db5-09ba-4152-b0b3-ace44db8fa68",
   "metadata": {},
   "source": [
    "Q2\n",
    "args is used as a variable to store n number of arguments passed by the user in a function and gives output in the form of a tuple\n",
    "kwargs is used as a variable to store key-value arguments passed by the user in a function and gives output in the form of a dictionary"
   ]
  },
  {
   "cell_type": "code",
   "execution_count": 3,
   "id": "9fdc0ba2-00bc-4b9d-9095-2d142b49beeb",
   "metadata": {},
   "outputs": [
    {
     "data": {
      "text/plain": [
       "(1, 2, 3, [4, 5, 6], 'abc')"
      ]
     },
     "execution_count": 3,
     "metadata": {},
     "output_type": "execute_result"
    }
   ],
   "source": [
    "#function of arg\n",
    "def var_a(*args):\n",
    "    return args\n",
    "var_a(1,2,3, [4,5,6], \"abc\")"
   ]
  },
  {
   "cell_type": "code",
   "execution_count": 4,
   "id": "4bbb638a-1c44-462c-b184-949c7f13d071",
   "metadata": {},
   "outputs": [
    {
     "data": {
      "text/plain": [
       "{'a': 10, 'b': 20, 'c': 30, 'd': 40}"
      ]
     },
     "execution_count": 4,
     "metadata": {},
     "output_type": "execute_result"
    }
   ],
   "source": [
    "#function of kwargs\n",
    "def var_b(**kwargs):\n",
    "    return kwargs\n",
    "var_b(a=10, b=20, c=30, d=40)"
   ]
  },
  {
   "cell_type": "markdown",
   "id": "6046d3a4-da50-4599-8724-64daa6bf1e51",
   "metadata": {},
   "source": [
    "Q3\n",
    "An iterator is an object used to iterate through eac element in a given data type in a python program.\n",
    "The '_iter_' is used to initialize an iterator in python.\n",
    "_iter_ and _next_ are the methods to iterate. Also loops such as 'for', 'while', 'do-while' are used for iteration.\n"
   ]
  },
  {
   "cell_type": "code",
   "execution_count": 10,
   "id": "515923b8-f69d-416c-a917-7587c9b8a74f",
   "metadata": {},
   "outputs": [
    {
     "name": "stdout",
     "output_type": "stream",
     "text": [
      "2\n",
      "4\n",
      "6\n",
      "8\n",
      "10\n"
     ]
    }
   ],
   "source": [
    "\n",
    "def func(n): \n",
    "    l=[2, 4, 6, 8, 10, 12, 14, 16,18, 20]\n",
    "    for i in range(0,n):\n",
    "            print(l[i])\n",
    "func(5)"
   ]
  },
  {
   "cell_type": "markdown",
   "id": "653f43d3-2745-4ee9-9a86-a9a7a6a938b7",
   "metadata": {},
   "source": [
    "Q4\n",
    "A generator function is a function which does not engages the memory till all the elements are traversed but instead, iterates through an element and returns it and then move ahead.\n",
    "It doesn't store all the data in the memory"
   ]
  },
  {
   "cell_type": "markdown",
   "id": "489fe033-7ba7-4293-85ae-ef85b0139bdf",
   "metadata": {},
   "source": [
    "yeild is used to give the output or return the data without storing it in the memory."
   ]
  },
  {
   "cell_type": "code",
   "execution_count": 14,
   "id": "0107ed3b-c3a9-45dc-9a6b-27e2bf6f029a",
   "metadata": {},
   "outputs": [
    {
     "name": "stdout",
     "output_type": "stream",
     "text": [
      "0\n",
      "1\n",
      "2\n",
      "3\n",
      "4\n",
      "5\n",
      "6\n",
      "7\n",
      "8\n",
      "9\n"
     ]
    }
   ],
   "source": [
    "#example is range function\n",
    "range(0,10)\n",
    "for i in range(0,10):\n",
    "    print (i)"
   ]
  },
  {
   "cell_type": "code",
   "execution_count": 45,
   "id": "02c94a32-4690-4ea2-b0da-f9d767969b5d",
   "metadata": {},
   "outputs": [
    {
     "name": "stdout",
     "output_type": "stream",
     "text": [
      "2\n",
      "3\n",
      "5\n",
      "7\n",
      "11\n",
      "13\n",
      "17\n",
      "19\n",
      "23\n",
      "29\n",
      "31\n",
      "37\n",
      "41\n",
      "43\n",
      "47\n",
      "53\n",
      "59\n",
      "61\n",
      "67\n",
      "71\n"
     ]
    }
   ],
   "source": [
    "\n",
    "def primes(n):\n",
    "    l = []\n",
    "    num = 2\n",
    "\n",
    "    while num < n:\n",
    "        if all(num % i != 0 for i in l):\n",
    "            l.append(num)\n",
    "            yield num\n",
    "        num += 1\n",
    "    return l\n",
    "x=primes(1000)\n",
    "for i in range(20):\n",
    "    print(next(x))\n",
    "    "
   ]
  },
  {
   "cell_type": "code",
   "execution_count": null,
   "id": "d5d45651-702f-4676-a3cb-865bc08f1711",
   "metadata": {},
   "outputs": [],
   "source": []
  }
 ],
 "metadata": {
  "kernelspec": {
   "display_name": "Python 3 (ipykernel)",
   "language": "python",
   "name": "python3"
  },
  "language_info": {
   "codemirror_mode": {
    "name": "ipython",
    "version": 3
   },
   "file_extension": ".py",
   "mimetype": "text/x-python",
   "name": "python",
   "nbconvert_exporter": "python",
   "pygments_lexer": "ipython3",
   "version": "3.11.0"
  }
 },
 "nbformat": 4,
 "nbformat_minor": 5
}
