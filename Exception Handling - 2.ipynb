{
 "cells": [
  {
   "cell_type": "markdown",
   "id": "5b2f8a86-15a4-4ad9-a16e-58c5250459a8",
   "metadata": {},
   "source": [
    "#Q1\n",
    "\n",
    "An Exception class is used while writing custom exceptions as it provides reusability of the exception and can be used for multiple exceptions."
   ]
  },
  {
   "cell_type": "markdown",
   "id": "8527f011-e08b-49d7-9c2e-ecd31358153b",
   "metadata": {},
   "source": [
    "#Q3\n",
    "\n",
    "The errors generated during artihmetic operations are defined in the ArithmeticError class.      \n",
    "Eg. ZeroDivisionError: It is generated when a number is been divided by zero.\n",
    "OverflowError: It is generated when a the value exceeds its specified limit."
   ]
  },
  {
   "cell_type": "code",
   "execution_count": 3,
   "id": "1449a78e-3f16-4f77-8301-f743e3d5de98",
   "metadata": {},
   "outputs": [
    {
     "name": "stdout",
     "output_type": "stream",
     "text": [
      "Zero Division Error // division by zero\n"
     ]
    }
   ],
   "source": [
    "#ZeroDivisionError\n",
    "\n",
    "num=10\n",
    "\n",
    "try:\n",
    "    num/0\n",
    "except Exception as e:\n",
    "    print('Zero Division Error //',e)"
   ]
  },
  {
   "cell_type": "markdown",
   "id": "0db347ee-7c74-4db6-ba8b-c48df1b3fe4d",
   "metadata": {},
   "source": [
    "#Q4\n",
    "\n",
    "LookupError class is used to handle the lookup error like keyerror or indexerror which are generated when a key or index is not found in the collection of elements.     \n",
    "\n",
    "KeyError:  This is generated when a particular key is not found in the dictionary.       \n",
    "\n",
    "IndexError:  This is generated when an index value is not found in the list or tuple."
   ]
  },
  {
   "cell_type": "code",
   "execution_count": 9,
   "id": "15dd8836-3687-4c5a-8c27-b63ed8f46edc",
   "metadata": {},
   "outputs": [
    {
     "name": "stdout",
     "output_type": "stream",
     "text": [
      "KeyError // 5\n"
     ]
    }
   ],
   "source": [
    "#KeyError:\n",
    "\n",
    "dict1 = {1 : 'Tiger', 2 : 'Lion', 3 : ['Wolf', 'Heyna', 'Bear']}\n",
    "try: \n",
    "    print(dict1[5])\n",
    "except Exception as e:\n",
    "    print(\"KeyError //\", e)"
   ]
  },
  {
   "cell_type": "code",
   "execution_count": 6,
   "id": "f6e62979-4fcc-4054-82c6-5bddd42d7e00",
   "metadata": {},
   "outputs": [
    {
     "name": "stdout",
     "output_type": "stream",
     "text": [
      "IndexError // list index out of range\n"
     ]
    }
   ],
   "source": [
    "#IndexError:\n",
    "\n",
    "l1=[1,2,3,4]\n",
    "try:\n",
    "     print(l1[5])\n",
    "except Exception as e:\n",
    "    print(\"IndexError //\", e)"
   ]
  },
  {
   "cell_type": "markdown",
   "id": "98308be5-ca46-4b59-ab26-fd47cf86b86f",
   "metadata": {},
   "source": [
    "#Q5\n",
    "\n",
    "The ImportError is generated when we the class or package we are trying to import is not available or created.       \n",
    "The ModuleNotFoundError is generated when the module that we are trying to import or use is not found on the system. "
   ]
  },
  {
   "cell_type": "markdown",
   "id": "bf5a16f2-831c-4f9c-a015-06cd7189c7cd",
   "metadata": {},
   "source": [
    "#Q6\n",
    "\n",
    "For Exception Handling we should try to use else and finally blocks, use custom exception classes to handle certain exceptions and log the exceptions at every point in the code flow."
   ]
  }
 ],
 "metadata": {
  "kernelspec": {
   "display_name": "Python 3 (ipykernel)",
   "language": "python",
   "name": "python3"
  },
  "language_info": {
   "codemirror_mode": {
    "name": "ipython",
    "version": 3
   },
   "file_extension": ".py",
   "mimetype": "text/x-python",
   "name": "python",
   "nbconvert_exporter": "python",
   "pygments_lexer": "ipython3",
   "version": "3.11.0"
  }
 },
 "nbformat": 4,
 "nbformat_minor": 5
}
