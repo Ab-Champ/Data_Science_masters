{
 "cells": [
  {
   "cell_type": "markdown",
   "id": "4fc5c24b-a0a8-4a57-bb01-b6071dc7bfdb",
   "metadata": {},
   "source": [
    "Q1"
   ]
  },
  {
   "cell_type": "code",
   "execution_count": 23,
   "id": "2aa2780e-341f-4d68-852b-d941885260d9",
   "metadata": {},
   "outputs": [
    {
     "name": "stdout",
     "output_type": "stream",
     "text": [
      "Enter Password\n"
     ]
    },
    {
     "name": "stdin",
     "output_type": "stream",
     "text": [
      " ABchamp@@@@123\n"
     ]
    },
    {
     "name": "stdout",
     "output_type": "stream",
     "text": [
      "Valid Password\n"
     ]
    }
   ],
   "source": [
    "print(\"Enter Password\")\n",
    "password=input()\n",
    "\n",
    "count_upper, count_lower, count_num, count_special = 0,0,0,0\n",
    "sp_char=(\"[@_!#$%^&*()<>?/|}{~:]\")\n",
    "if len(password) >=10: \n",
    "    for i in password:\n",
    "        if i in sp_char:\n",
    "            count_special+=1\n",
    "        elif i.isnumeric():\n",
    "            count_num+=1\n",
    "        elif i.isalpha():\n",
    "            if i.isupper()==True:\n",
    "                count_upper+=1\n",
    "            else:\n",
    "                count_lower+=1\n",
    "    \n",
    "    if (count_upper>=2 and count_lower >= 2) and (count_num >=1)  and (count_special >=3):\n",
    "        print(\"Valid Password\")\n",
    "    else:\n",
    "        print(\"Invalid password\")\n",
    "\n",
    "else:\n",
    "     print(\"Invalid password\")\n",
    "\n"
   ]
  },
  {
   "cell_type": "markdown",
   "id": "d448614e-f80f-4abf-b63e-e91f367bdb44",
   "metadata": {},
   "source": [
    "Q2"
   ]
  },
  {
   "cell_type": "code",
   "execution_count": 3,
   "id": "5e76518d-1b5f-41f1-ada3-286acb069782",
   "metadata": {},
   "outputs": [],
   "source": [
    "#Check if the string starts with a particular letter\n",
    "def str_check(str1):\n",
    "    if str1.startswith('a'):\n",
    "        print(True)\n",
    "    else:\n",
    "        print(False)"
   ]
  },
  {
   "cell_type": "code",
   "execution_count": 5,
   "id": "541328cd-ec53-4a69-a7af-598b158d2e68",
   "metadata": {},
   "outputs": [
    {
     "name": "stdout",
     "output_type": "stream",
     "text": [
      "False\n"
     ]
    }
   ],
   "source": [
    "str_check(\"Rahul\")"
   ]
  },
  {
   "cell_type": "code",
   "execution_count": 6,
   "id": "044626fa-7d77-4a58-86aa-11c7fc0e6faa",
   "metadata": {},
   "outputs": [
    {
     "name": "stdout",
     "output_type": "stream",
     "text": [
      "True\n"
     ]
    }
   ],
   "source": [
    "str_check('abhijit')"
   ]
  },
  {
   "cell_type": "code",
   "execution_count": 7,
   "id": "f8c93405-b60b-42de-bcf3-d5f9bd6a3283",
   "metadata": {},
   "outputs": [],
   "source": [
    "#Check if the string is numeric\n",
    "def str_num_check(str2):\n",
    "    if str2.isnumeric()==True:\n",
    "        return True\n",
    "    else:\n",
    "        return False"
   ]
  },
  {
   "cell_type": "code",
   "execution_count": 8,
   "id": "c97ac13d-f85a-4853-b044-0ccca97f23e3",
   "metadata": {},
   "outputs": [
    {
     "data": {
      "text/plain": [
       "False"
      ]
     },
     "execution_count": 8,
     "metadata": {},
     "output_type": "execute_result"
    }
   ],
   "source": [
    "str_num_check('ab123')"
   ]
  },
  {
   "cell_type": "code",
   "execution_count": 9,
   "id": "649360a9-9a77-44a6-b2d8-72f0de00ee96",
   "metadata": {},
   "outputs": [
    {
     "data": {
      "text/plain": [
       "True"
      ]
     },
     "execution_count": 9,
     "metadata": {},
     "output_type": "execute_result"
    }
   ],
   "source": [
    "str_num_check('1234')"
   ]
  },
  {
   "cell_type": "code",
   "execution_count": 12,
   "id": "9ab057fd-6871-493e-bc68-4bfb8560eb3b",
   "metadata": {},
   "outputs": [
    {
     "data": {
      "text/plain": [
       "[('orange', 80), ('mango', 99), ('grapes', 1000)]"
      ]
     },
     "execution_count": 12,
     "metadata": {},
     "output_type": "execute_result"
    }
   ],
   "source": [
    "#Sort a list of tuples having fruit names and their quantity. [(\"mango\",99),(\"orange\",80), (\"grapes\", 1000)\n",
    "tuple_list=[(\"mango\",99),(\"orange\",80), (\"grapes\", 1000)]\n",
    "sorted(tuple_list, key = lambda x: x[1])"
   ]
  },
  {
   "cell_type": "code",
   "execution_count": 20,
   "id": "79e9a0b8-9dab-4751-8484-6ca444a9d528",
   "metadata": {},
   "outputs": [
    {
     "data": {
      "text/plain": [
       "[1, 4, 9, 16, 25, 36, 49, 64, 81, 100]"
      ]
     },
     "execution_count": 20,
     "metadata": {},
     "output_type": "execute_result"
    }
   ],
   "source": [
    "#Find the squares of numbers from 1 to 10\n",
    "l=[1,2,3,4,5,6,7,8,9,10]\n",
    "def sq(x):\n",
    "    return x**2\n",
    "list(map(sq,l))"
   ]
  },
  {
   "cell_type": "code",
   "execution_count": 21,
   "id": "b4f7c853-ea43-45c0-a37e-f8bd646b5e65",
   "metadata": {},
   "outputs": [
    {
     "data": {
      "text/plain": [
       "[1.0,\n",
       " 1.2599210498948732,\n",
       " 1.4422495703074083,\n",
       " 1.5874010519681994,\n",
       " 1.7099759466766968,\n",
       " 1.8171205928321397,\n",
       " 1.912931182772389,\n",
       " 2.0,\n",
       " 2.080083823051904,\n",
       " 2.154434690031884]"
      ]
     },
     "execution_count": 21,
     "metadata": {},
     "output_type": "execute_result"
    }
   ],
   "source": [
    "#Find the cube roots of numbers from 1 to 10\n",
    "l=[1,2,3,4,5,6,7,8,9,10]\n",
    "def cube_root(x):\n",
    "    return x**(1/3)\n",
    "list(map(cube_root,l))"
   ]
  },
  {
   "cell_type": "code",
   "execution_count": 23,
   "id": "2224ac1f-74c1-463a-9e27-c15529007719",
   "metadata": {},
   "outputs": [],
   "source": [
    "#Check if a given number is even\n",
    "if_even = lambda x : True if x%2==0 else False"
   ]
  },
  {
   "cell_type": "code",
   "execution_count": 24,
   "id": "27bdad62-584a-4a37-80f6-861950db805c",
   "metadata": {},
   "outputs": [
    {
     "data": {
      "text/plain": [
       "False"
      ]
     },
     "execution_count": 24,
     "metadata": {},
     "output_type": "execute_result"
    }
   ],
   "source": [
    "if_even(23)"
   ]
  },
  {
   "cell_type": "code",
   "execution_count": 25,
   "id": "bc04161a-4658-4c7a-9006-f6700d662e3b",
   "metadata": {},
   "outputs": [
    {
     "data": {
      "text/plain": [
       "True"
      ]
     },
     "execution_count": 25,
     "metadata": {},
     "output_type": "execute_result"
    }
   ],
   "source": [
    "if_even(72)"
   ]
  },
  {
   "cell_type": "code",
   "execution_count": 26,
   "id": "235d6479-9ab3-4673-b394-c765d66b2c25",
   "metadata": {},
   "outputs": [
    {
     "data": {
      "text/plain": [
       "[1, 3, 5, 7, 9]"
      ]
     },
     "execution_count": 26,
     "metadata": {},
     "output_type": "execute_result"
    }
   ],
   "source": [
    "#Filter odd numbers from the given list.[1,2,3,4,5,6,7,8,9,10]\n",
    "\n",
    "l = [1,2,3,4,5,6,7,8,9,10]\n",
    "list(filter(lambda x : x%2!=0, l))"
   ]
  },
  {
   "cell_type": "code",
   "execution_count": 30,
   "id": "2692a169-a174-4059-9d89-f1302502fa75",
   "metadata": {},
   "outputs": [
    {
     "name": "stdout",
     "output_type": "stream",
     "text": [
      "[1, 2, 3, 4, 5, 6, 0] [-1, -2, -3, -4, -5]\n"
     ]
    }
   ],
   "source": [
    "#Sort a list of integers into positive and negative integers lists.[1,2,3,4,5,6,-1,-2,-3,-4,-5,0]\n",
    "l=[1,2,3,4,5,6,-1,-2,-3,-4,-5,0]\n",
    "positive=list(filter(lambda x : x>=0, l))\n",
    "negative=list(filter(lambda x : x<0, l))\n",
    "print(positive, negative)"
   ]
  },
  {
   "cell_type": "code",
   "execution_count": null,
   "id": "86b6dde9-e2b5-48bc-8727-2abd0b253c6d",
   "metadata": {},
   "outputs": [],
   "source": []
  }
 ],
 "metadata": {
  "kernelspec": {
   "display_name": "Python 3 (ipykernel)",
   "language": "python",
   "name": "python3"
  },
  "language_info": {
   "codemirror_mode": {
    "name": "ipython",
    "version": 3
   },
   "file_extension": ".py",
   "mimetype": "text/x-python",
   "name": "python",
   "nbconvert_exporter": "python",
   "pygments_lexer": "ipython3",
   "version": "3.11.0"
  }
 },
 "nbformat": 4,
 "nbformat_minor": 5
}
