{
 "cells": [
  {
   "cell_type": "markdown",
   "id": "75f2d8fe-ec28-43c7-b041-84b1667f9809",
   "metadata": {},
   "source": [
    "#Q1\n",
    "\n",
    "API is used to connect two softwares,servers or interfaces so that they can communicate with each other. It acts as a connector for the two components. It helps to connect the softwares irrespective of the language used for their development. \n",
    "Example is -- a client server database which is used to connect a client interface to a server interface of an application "
   ]
  },
  {
   "cell_type": "markdown",
   "id": "b41a7e75-c49f-4c54-932f-53557a54d678",
   "metadata": {},
   "source": [
    "#Q2\n",
    "\n",
    "Advantages :      \n",
    "improves efficiency, helps interaction between apps, improves performance, enables cross platform connections      \n",
    "\n",
    "Disadvantages:          \n",
    "There can be possible downtimes in API, Security risk, changes in API can affect the system perfomance"
   ]
  },
  {
   "cell_type": "markdown",
   "id": "716919df-dc15-46b4-8d57-cfcbb13583be",
   "metadata": {},
   "source": [
    "#Q3\n",
    "\n",
    "The API is used to connect interfaces with each other. They use set of rules for this. They either use the REST or SOAP protocols for this purpose. \n",
    "\n",
    "A WEB API is used to connect interfaces with the help of HTTP protocol. It uses urls to help establish communication."
   ]
  },
  {
   "cell_type": "markdown",
   "id": "6d543262-149a-41d4-a57e-f5e02e4b6eae",
   "metadata": {},
   "source": [
    "#Q4\n",
    "\n",
    "REST architecture manages data in XML or JSON format. It uses HTTP or HTTPS protocol. It has GET, POST commands.      \n",
    "SOAP architecture manages data in XML format only. It uses HTTP or SMTP protocol."
   ]
  },
  {
   "cell_type": "markdown",
   "id": "e56d1fd0-ff91-405a-a2df-67e30a8f751c",
   "metadata": {},
   "source": [
    "#Q5\n",
    "\n",
    "REST architecture manages data in XML or JSON format. It uses HTTP or HTTPS protocol. It has GET, POST commands.      \n",
    "SOAP architecture manages data in XML format only. It uses HTTP or SMTP protocol."
   ]
  }
 ],
 "metadata": {
  "kernelspec": {
   "display_name": "Python 3 (ipykernel)",
   "language": "python",
   "name": "python3"
  },
  "language_info": {
   "codemirror_mode": {
    "name": "ipython",
    "version": 3
   },
   "file_extension": ".py",
   "mimetype": "text/x-python",
   "name": "python",
   "nbconvert_exporter": "python",
   "pygments_lexer": "ipython3",
   "version": "3.11.0"
  }
 },
 "nbformat": 4,
 "nbformat_minor": 5
}
