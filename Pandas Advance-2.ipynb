{
 "cells": [
  {
   "cell_type": "code",
   "execution_count": 2,
   "id": "9336a74f-891e-4f5c-9d49-71171084dcbc",
   "metadata": {},
   "outputs": [],
   "source": [
    "import pandas as pd\n",
    "course_name = ['Data Science', 'Machine Learning', 'Big Data', 'Data Engineer']\n",
    "duration = [2,3,6,4]\n",
    "df = pd.DataFrame(data = {'course_name' : course_name, 'duration' : duration})"
   ]
  },
  {
   "cell_type": "code",
   "execution_count": 3,
   "id": "30362d55-4fa5-45aa-8325-747ee3c2eeb4",
   "metadata": {},
   "outputs": [
    {
     "name": "stdout",
     "output_type": "stream",
     "text": [
      "course_name    Machine Learning\n",
      "duration                      3\n",
      "Name: 1, dtype: object\n"
     ]
    }
   ],
   "source": [
    "##Q1\n",
    "\n",
    "print(df.iloc[1])"
   ]
  },
  {
   "cell_type": "markdown",
   "id": "3615fc37-ebf6-4f11-a821-a0875803fde6",
   "metadata": {},
   "source": [
    "**##Q2**\n",
    "\n",
    "The 'loc' is used to select rows/columns in  a dataframe using the column name. It can also contain condition to sort values.\n",
    "The 'iloc' is used to select rows/columns in a dataframe using the index values."
   ]
  },
  {
   "cell_type": "code",
   "execution_count": 4,
   "id": "532e18e9-ca42-419a-9d6d-1b54407b36f8",
   "metadata": {},
   "outputs": [
    {
     "data": {
      "text/plain": [
       "column_1    0.121252\n",
       "column_2    0.748014\n",
       "column_3    0.552308\n",
       "column_4    0.503324\n",
       "column_5    0.942902\n",
       "column_6    0.632013\n",
       "Name: 1, dtype: float64"
      ]
     },
     "execution_count": 4,
     "metadata": {},
     "output_type": "execute_result"
    }
   ],
   "source": [
    "##Q3\n",
    "\n",
    "import pandas as pd\n",
    "import numpy as np\n",
    "columns = ['column_1', 'column_2', 'column_3', 'column_4', 'column_5', 'column_6']\n",
    "indices = [1,2,3,4,5,6]\n",
    "#Creating a dataframe:\n",
    "df1 = pd.DataFrame(np.random.rand(6,6), columns = columns, index = indices)\n",
    "new_df=df1.reindex([3,0,1,2])\n",
    "new_df.loc[2]\n",
    "new_df.iloc[2]\n",
    "\n",
    "## It reorders the data according the values given. If the redindex value is not in the dataframe, it replaces it with  NaN\n",
    "\n",
    "## The loc function returns values of each column of the given row value i.e It treats the given value as row name while\n",
    "## The iloc function returns values of each column of the index value i.e It treats the given value as index value for the dataframe rows\n"
   ]
  },
  {
   "cell_type": "code",
   "execution_count": 5,
   "id": "ce5f620d-2b65-42f0-b01c-0ddb104bda5e",
   "metadata": {},
   "outputs": [
    {
     "name": "stdout",
     "output_type": "stream",
     "text": [
      "Means of all columns:\n",
      " column_1    0.406596\n",
      "column_2    0.434504\n",
      "column_3    0.447009\n",
      "column_4    0.624675\n",
      "column_5    0.538654\n",
      "column_6    0.416943\n",
      "dtype: float64\n",
      "\n",
      "Standard deviation of ‘column_2’: 0.2879504009981992\n"
     ]
    }
   ],
   "source": [
    "##Q4\n",
    "\n",
    "print('Means of all columns:\\n',df1.mean())\n",
    "print('\\nStandard deviation of ‘column_2’:',df1['column_2'].std())"
   ]
  },
  {
   "cell_type": "code",
   "execution_count": null,
   "id": "7c53d801-2cf2-49ed-a201-33d1424e0b3a",
   "metadata": {},
   "outputs": [],
   "source": [
    "##Q5\n",
    "\n",
    "\n",
    "df1['column_2'].iloc[2]='hello'\n",
    "\n",
    "df1['column_2'].mean()\n",
    "\n",
    "## unsupported operand type(s) for +: 'float' and 'str'\n",
    "## It gives such error because the column contains a string value and mean cannot be calculated for a string value"
   ]
  },
  {
   "cell_type": "markdown",
   "id": "2e78a3c5-985a-43e5-8a61-89c934e2ab79",
   "metadata": {},
   "source": [
    "##Q6\n",
    "\n",
    "The window function gives the number of rows on which the calculation needs to be performed   \n",
    "Types are:\n",
    "    Rolling Window --- .rolling(window=x)        \n",
    "    Expanding window --- .expanding(window=x)        \n",
    "    Groupby --- .groupby(window=x)"
   ]
  },
  {
   "cell_type": "code",
   "execution_count": 7,
   "id": "6f827663-6d78-4ae1-8ab6-7dffd8dee04f",
   "metadata": {},
   "outputs": [
    {
     "name": "stdout",
     "output_type": "stream",
     "text": [
      "8 / 2023\n"
     ]
    }
   ],
   "source": [
    "##Q7\n",
    "\n",
    "import datetime\n",
    "print(datetime.datetime.now().month,'/',datetime.datetime.now().year)"
   ]
  },
  {
   "cell_type": "code",
   "execution_count": null,
   "id": "6201c053-b34d-4e76-90db-7ea38f1d464a",
   "metadata": {},
   "outputs": [],
   "source": [
    "##Q8\n",
    "\n",
    "import pandas as pd\n",
    "print(\"Enter dates ---> YYYY-MM-DD\")\n",
    "a=input()\n",
    "b=input()\n",
    "date1=pd.to_datetime(a)\n",
    "date2=pd.to_datetime(b)\n",
    "\n",
    "diff=date2-date1\n",
    "print(diff)"
   ]
  },
  {
   "cell_type": "code",
   "execution_count": null,
   "id": "c6f65f77-0c8e-4c33-9846-553d6e38d79b",
   "metadata": {},
   "outputs": [],
   "source": [
    "##Q9\n",
    "\n",
    "import seaborn as sns\n",
    "import pandas as pd\n",
    "\n",
    "print('Enter file path, categories and category order')\n",
    "FilePath=input()\n",
    "ColumnName=input()\n",
    "CategoryOrder=input()\n",
    "\n",
    "def conv(path, col, order):\n",
    "    df=pd.read_csv(path)\n",
    "    \n",
    "    if col in df:\n",
    "        df[col]=pd.Categorical(df[col],categories=category_order, ordered=True)\n",
    "        df_sort = df.sort(df[col])\n",
    "        print(df_sort)\n",
    "\n",
    "conv(FilePath,ColumnName, CategoryOrder)\n"
   ]
  },
  {
   "cell_type": "code",
   "execution_count": null,
   "id": "1450aeb1-edae-4ba3-be1d-7f872407639f",
   "metadata": {},
   "outputs": [],
   "source": [
    "##10\n",
    "\n",
    "def stacked(file_path):\n",
    "    import matplotlib.pyplot as plt\n",
    "    df=pd.read_csv(file_path)\n",
    "\n",
    "\n",
    "    x=df.columns[0]\n",
    "    y1=df.columns[1]\n",
    "    y2=df.columns[2]\n",
    "    fig, ax = plt.subplots()\n",
    "\n",
    "    # Stacked bar chart\n",
    "    ax.bar(x,y1)\n",
    "    ax.bar(x,y2, bottom = y1)\n",
    "\n",
    "    plt.show()\n",
    "    \n",
    "print(\"Enter your csv file path\")    \n",
    "path=input()\n",
    "stacked(path)"
   ]
  },
  {
   "cell_type": "code",
   "execution_count": null,
   "id": "72149090-bab3-4c65-a6b0-a599929ef5ca",
   "metadata": {},
   "outputs": [],
   "source": [
    "##Q11\n",
    "\n",
    "def calc(filePath):\n",
    "    df1=pd.read_csv(file_path)\n",
    "    \n",
    "    Mean=df1['Test Score'].mean()\n",
    "    Median=df1['Test Score'].median()\n",
    "    Mode=df1['Test Score'].mode()\n",
    "    \n",
    "    print('+-----------+--------+  \\n| Statistic | Value |\\n+-----------+--------+\\n Mean:{}\\nMedian:{}\\nMode:{}\\n+-----------+--------+'.format(Mean,Median,Mode))\n",
    "\n",
    "print(\"Enter your csv file\")\n",
    "path1=input()\n",
    "calc(path1)"
   ]
  }
 ],
 "metadata": {
  "kernelspec": {
   "display_name": "Python 3 (ipykernel)",
   "language": "python",
   "name": "python3"
  },
  "language_info": {
   "codemirror_mode": {
    "name": "ipython",
    "version": 3
   },
   "file_extension": ".py",
   "mimetype": "text/x-python",
   "name": "python",
   "nbconvert_exporter": "python",
   "pygments_lexer": "ipython3",
   "version": "3.10.8"
  }
 },
 "nbformat": 4,
 "nbformat_minor": 5
}
