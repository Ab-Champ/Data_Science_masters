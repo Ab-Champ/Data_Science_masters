{
 "cells": [
  {
   "cell_type": "code",
   "execution_count": 2,
   "id": "9c1ad487-36b0-4f9d-b715-d5a792e00c1e",
   "metadata": {},
   "outputs": [],
   "source": [
    "import numpy as np\n",
    "list_ = [ '1' , '2' , '3' , '4' , '5' ]\n",
    "array_list = np.array(object = list_)"
   ]
  },
  {
   "cell_type": "code",
   "execution_count": 7,
   "id": "78ef082d-4b47-476e-a05f-e8f000828812",
   "metadata": {},
   "outputs": [
    {
     "name": "stdout",
     "output_type": "stream",
     "text": [
      "<class 'list'>\n",
      "<class 'numpy.ndarray'>\n"
     ]
    }
   ],
   "source": [
    "##Q1\n",
    "\n",
    "#Yes, there is a difference in both the data types.\n",
    "#The 'list_' is a list datatype while 'array_list' is a numpy array\n",
    "\n",
    "print(type(list_))\n",
    "print(type(array_list))"
   ]
  },
  {
   "cell_type": "code",
   "execution_count": 8,
   "id": "c3bafe05-aba6-4bda-bf28-d962040cc719",
   "metadata": {},
   "outputs": [
    {
     "name": "stdout",
     "output_type": "stream",
     "text": [
      "<class 'str'>\n",
      "<class 'str'>\n",
      "<class 'str'>\n",
      "<class 'str'>\n",
      "<class 'str'>\n",
      "<class 'numpy.str_'>\n",
      "<class 'numpy.str_'>\n",
      "<class 'numpy.str_'>\n",
      "<class 'numpy.str_'>\n",
      "<class 'numpy.str_'>\n"
     ]
    }
   ],
   "source": [
    "##Q2\n",
    "\n",
    "for i in list_:\n",
    "    print(type(i))\n",
    "for j in array_list:\n",
    "    print(type(j))"
   ]
  },
  {
   "cell_type": "code",
   "execution_count": 15,
   "id": "35117414-5651-4b56-84d3-5498194ab3c3",
   "metadata": {},
   "outputs": [
    {
     "name": "stdout",
     "output_type": "stream",
     "text": [
      "<class 'str'>\n",
      "<class 'str'>\n",
      "<class 'str'>\n",
      "<class 'str'>\n",
      "<class 'str'>\n",
      "<class 'numpy.int64'>\n",
      "<class 'numpy.int64'>\n",
      "<class 'numpy.int64'>\n",
      "<class 'numpy.int64'>\n",
      "<class 'numpy.int64'>\n"
     ]
    }
   ],
   "source": [
    "##Q3\n",
    "\n",
    "array_list = np.array(object = list_, dtype = int)\n",
    "\n",
    "for i in list_:\n",
    "    print(type(i))\n",
    "\n",
    "for j in array_list:\n",
    "    print(type(j))\n",
    "    \n",
    "#There is a difference in the elements of 'array_list' as previously they were string elements#\n",
    "#while now, there are integer type elements as specified in it."
   ]
  },
  {
   "cell_type": "code",
   "execution_count": 21,
   "id": "2d4916c5-d047-4360-a001-bfc6b9555db9",
   "metadata": {},
   "outputs": [
    {
     "name": "stdout",
     "output_type": "stream",
     "text": [
      "Shape: (2, 3)\n",
      "Size: 6\n"
     ]
    }
   ],
   "source": [
    "##Q4\n",
    "\n",
    "import numpy as np\n",
    "num_list = [ [ 1 , 2 , 3 ] , [ 4 , 5 , 6 ] ]\n",
    "num_array = np.array(object = num_list)\n",
    "\n",
    "#shape\n",
    "print('Shape:',num_array.shape)\n",
    "\n",
    "#size\n",
    "print('Size:',num_array.size)"
   ]
  },
  {
   "cell_type": "code",
   "execution_count": 24,
   "id": "ee369f1e-2c1a-4678-91d7-32bdecedb46e",
   "metadata": {},
   "outputs": [
    {
     "name": "stdout",
     "output_type": "stream",
     "text": [
      "[[0. 0. 0.]\n",
      " [0. 0. 0.]\n",
      " [0. 0. 0.]]\n"
     ]
    }
   ],
   "source": [
    "##Q5\n",
    "\n",
    "print(np.zeros([3,3]))"
   ]
  },
  {
   "cell_type": "code",
   "execution_count": 27,
   "id": "4b6da146-8af8-48a4-9ebf-78d5993f4135",
   "metadata": {},
   "outputs": [
    {
     "name": "stdout",
     "output_type": "stream",
     "text": [
      "[[1. 0. 0. 0. 0.]\n",
      " [0. 1. 0. 0. 0.]\n",
      " [0. 0. 1. 0. 0.]\n",
      " [0. 0. 0. 1. 0.]\n",
      " [0. 0. 0. 0. 1.]]\n"
     ]
    }
   ],
   "source": [
    "##Q6\n",
    "\n",
    "print(np.identity(5))"
   ]
  }
 ],
 "metadata": {
  "kernelspec": {
   "display_name": "Python 3 (ipykernel)",
   "language": "python",
   "name": "python3"
  },
  "language_info": {
   "codemirror_mode": {
    "name": "ipython",
    "version": 3
   },
   "file_extension": ".py",
   "mimetype": "text/x-python",
   "name": "python",
   "nbconvert_exporter": "python",
   "pygments_lexer": "ipython3",
   "version": "3.10.8"
  }
 },
 "nbformat": 4,
 "nbformat_minor": 5
}
