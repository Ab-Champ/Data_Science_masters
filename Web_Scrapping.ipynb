{
  "nbformat": 4,
  "nbformat_minor": 0,
  "metadata": {
    "colab": {
      "provenance": []
    },
    "kernelspec": {
      "name": "python3",
      "display_name": "Python 3"
    },
    "language_info": {
      "name": "python"
    }
  },
  "cells": [
    {
      "cell_type": "markdown",
      "source": [
        "**Q1**    \n",
        "Web Scrapping is the process of extracting the data from a webpage. The data obtained is in the form of HTML which is then processed into excel or csv format for analysis.    \n",
        "Web scrapping is used to get the data from a webpage so as to use it in a particular program or for analysis.   \n",
        "It is used in E-commerce, social media sites, marketing,data analysis."
      ],
      "metadata": {
        "id": "H3fISlW8Vrqr"
      }
    },
    {
      "cell_type": "markdown",
      "source": [
        "**Q2**      \n",
        "Methods of web scrapping are: manual, web api, python (beutifulsoup, request, scrapy,etc), browser scrap."
      ],
      "metadata": {
        "id": "WR-zxKZsWvQj"
      }
    },
    {
      "cell_type": "markdown",
      "source": [
        "**Q3**          \n",
        "BeutifulSoup is a python library which is used for web scrapping and parsing HTML information.      \n",
        "It helps in prettifying the data in HTML format so that, we can get a better understanding of the data. It sperates the links and data from a collective HTML data."
      ],
      "metadata": {
        "id": "d3d9tCPJWqKk"
      }
    },
    {
      "cell_type": "markdown",
      "source": [
        "**Q4**       \n",
        "Flask is a python framework used for web scrapping. Flask is used for web scrapping because it is light weight, easy, provides web scrapping librabries and provides routes to locate a particular function in a server."
      ],
      "metadata": {
        "id": "LFSDikyCVX5j"
      }
    },
    {
      "cell_type": "markdown",
      "source": [
        "**Q5**       \n",
        "We use Elasticbeanstalk and codepipeline of AWS in this project.\n",
        "Elasticbeanstalk is used for deploying our project to AWS by creating a web application and its environment.     \n",
        "Codepipeline is used for linking our code source and application for a successfull deployement."
      ],
      "metadata": {
        "id": "evC5pBM1VWHb"
      }
    }
  ]
}